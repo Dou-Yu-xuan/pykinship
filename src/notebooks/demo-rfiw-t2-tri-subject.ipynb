{
 "cells": [
  {
   "cell_type": "markdown",
   "metadata": {
    "pycharm": {
     "name": "#%% md\n"
    }
   },
   "source": [
    "# Demo for RFIW-2020 (Task 2): Tri-Subject Verification\n",
    "## Overview\n",
    "Analysis and evaluation demo for tri-subject verification.\n",
    "\n",
    "Here are a few tricks using [pandas](https://pandas.pydata.org) in the Recognizing Families In \n",
    "the Wild ([RFIW](https://web.northeastern.edu/smilelab/rfiw2020/)) data challenge. Specifically, in the tri-subject \n",
    "verification task ([Task-II](https://competitions.codalab.org/competitions/21843)).\n",
    "\n",
    "We will evaluate pairs and perform analysis on the features used for assessment. Specifically, we will\n",
    "- Load all features into dictionary.\n",
    "- Evaluate according to verification protocol.\n",
    "  - Calculate verification accuracies for the different relationship pair-types, along with the averaged accuracy.\n",
    "  - Generate a ROC curve.\n",
    "  - Visualize score distributions for KIN and NON-KIN for the different relationship types.\n",
    "\n",
    "It is assumed features are extracted in are stored with the same name a image files, except as PKL files. The\n",
    "demo loads all features into a dictionary with keys set as the image (face) name and path (i.e., FID/MID/faceID), but \n",
    "with the extension omitted. Thus, modifications can easily be made in data loading cell to fit the scheme in place if \n",
    "different.\n",
    "\n",
    "For this, faces were encoded using SphereFace trained on MSCeleb in Pytorch (though any features can be plugged in).\n",
    "\n",
    "No fine-tuning or special tricks were employed. This is solely to demonstrate a few simple steps for evaluation, followed\n",
    "by easy to generate, yet appealing and insightful, visualizations of the feature embeddings.\n"
   ]
  },
  {
   "cell_type": "code",
   "execution_count": 3,
   "metadata": {
    "collapsed": false,
    "jupyter": {
     "outputs_hidden": false
    },
    "pycharm": {
     "name": "#%%\n"
    }
   },
   "outputs": [],
   "source": [
    "import numpy as np\n",
    "import pandas as pd\n",
    "import seaborn as sns\n",
    "\n",
    "\n",
    "import matplotlib.pyplot as plt\n",
    "from sklearn.metrics import roc_auc_score, roc_curve"
   ]
  },
  {
   "cell_type": "code",
   "execution_count": 4,
   "metadata": {
    "collapsed": false,
    "jupyter": {
     "outputs_hidden": false
    },
    "pycharm": {
     "name": "#%%\n"
    }
   },
   "outputs": [],
   "source": [
    "%matplotlib inline\n",
    "# set styles for figures\n",
    "sns.set(style=\"white\", rc={\"axes.facecolor\": (0, 0, 0, 0)})\n",
    "sns.set_style('whitegrid', {'font.family': 'serif',\n",
    "                            'font.serif' : 'Times New Roman', 'fontsize': 18})"
   ]
  },
  {
   "cell_type": "markdown",
   "metadata": {},
   "source": [
    " Prepare file paths"
   ]
  },
  {
   "cell_type": "code",
   "execution_count": 14,
   "metadata": {
    "collapsed": false,
    "jupyter": {
     "outputs_hidden": false
    },
    "pycharm": {
     "name": "#%%\n"
    }
   },
   "outputs": [],
   "source": [
    "dir_root = '../../data/rfiw2020-data/'\n",
    "\n",
    "dir_data = dir_root + 'trisubject_verification/'\n",
    "f_test_ref = dir_data + 'test_triples_reference.csv'\n",
    "f_val_ref = dir_data + 'val_triplets_reference.csv'\n",
    "\n",
    "dir_features = f'{dir_root}/FIDs-features/'"
   ]
  },
  {
   "cell_type": "markdown",
   "metadata": {},
   "source": [
    "Load CSV files, feature file paths, and determine relationship types"
   ]
  },
  {
   "cell_type": "code",
   "execution_count": 15,
   "metadata": {
    "collapsed": false,
    "jupyter": {
     "outputs_hidden": false
    },
    "pycharm": {
     "name": "#%%\n"
    }
   },
   "outputs": [
    {
     "name": "stdout",
     "output_type": "stream",
     "text": [
      "Processing 3568 pairs of 2 relationship types\n"
     ]
    }
   ],
   "source": [
    "df_val = pd.read_csv(f_val_ref)\n",
    "\n",
    "# get all unique relationship types in DF\n",
    "relationship_types = df_val.tag.unique()\n",
    "print('Processing {} pairs of {} relationship types'.format(len(df_val), len(relationship_types)))\n",
    "\n",
    "df_test = pd.read_csv(f_test_ref)\n",
    "\n",
    "f_feats = np.unique(df_val.If.to_list() +\n",
    "                    df_val.Im.to_list() + df_val.Ic.to_list())"
   ]
  },
  {
   "cell_type": "markdown",
   "metadata": {},
   "source": [
    "Load features"
   ]
  },
  {
   "cell_type": "code",
   "execution_count": 16,
   "metadata": {
    "collapsed": false,
    "jupyter": {
     "outputs_hidden": false
    },
    "pycharm": {
     "name": "#%% Get all unique faces\n"
    }
   },
   "outputs": [],
   "source": [
    "feats = {f: pd.read_pickle(dir_features + f.replace('.jpg', '.pkl')) for f in f_feats}\n"
   ]
  },
  {
   "cell_type": "markdown",
   "metadata": {},
   "source": [
    "Determine cosine score for each pair. Do Father-Child and Mother-Child independently. Then, we will fuse\n",
    "scores as the average of the two."
   ]
  },
  {
   "cell_type": "code",
   "execution_count": 17,
   "metadata": {
    "collapsed": false,
    "jupyter": {
     "outputs_hidden": false
    },
    "pycharm": {
     "name": "#%%\n"
    }
   },
   "outputs": [],
   "source": [
    "# score all feature pairs, because L2 norm applied on features dot is same as cosine sim\n",
    "df_val['score_fc'] = df_val.apply(lambda x: np.dot(feats[x.If], feats[x.Ic].T), axis=1)\n",
    "df_val['score_mc'] = df_val.apply(lambda x: np.dot(feats[x.Im], feats[x.Ic].T), axis=1)\n",
    "\n",
    "df_val['score'] = df_val.apply(lambda x: (x.score_fc + x.score_mc)/2, axis=1)"
   ]
  },
  {
   "cell_type": "code",
   "execution_count": 18,
   "metadata": {
    "collapsed": false,
    "jupyter": {
     "outputs_hidden": false
    },
    "pycharm": {
     "name": "#%% Sample pair list to make sure data is as expected\n"
    }
   },
   "outputs": [
    {
     "data": {
      "text/html": [
       "<div>\n",
       "<style scoped>\n",
       "    .dataframe tbody tr th:only-of-type {\n",
       "        vertical-align: middle;\n",
       "    }\n",
       "\n",
       "    .dataframe tbody tr th {\n",
       "        vertical-align: top;\n",
       "    }\n",
       "\n",
       "    .dataframe thead th {\n",
       "        text-align: right;\n",
       "    }\n",
       "</style>\n",
       "<table border=\"1\" class=\"dataframe\">\n",
       "  <thead>\n",
       "    <tr style=\"text-align: right;\">\n",
       "      <th></th>\n",
       "      <th>If</th>\n",
       "      <th>Im</th>\n",
       "      <th>Ic</th>\n",
       "      <th>label</th>\n",
       "      <th>tag</th>\n",
       "      <th>FID</th>\n",
       "      <th>F</th>\n",
       "      <th>M</th>\n",
       "      <th>C</th>\n",
       "      <th>count</th>\n",
       "      <th>reversed_weights</th>\n",
       "      <th>score_fc</th>\n",
       "      <th>score_mc</th>\n",
       "      <th>score</th>\n",
       "    </tr>\n",
       "  </thead>\n",
       "  <tbody>\n",
       "    <tr>\n",
       "      <th>0</th>\n",
       "      <td>F0007/MID1/P00073_face2.jpg</td>\n",
       "      <td>F0007/MID2/P00078_face2.jpg</td>\n",
       "      <td>F0007/MID6/P00074_face1.jpg</td>\n",
       "      <td>1</td>\n",
       "      <td>FMD</td>\n",
       "      <td>F0007</td>\n",
       "      <td>F0007/MID1</td>\n",
       "      <td>F0007/MID2</td>\n",
       "      <td>F0007/MID6</td>\n",
       "      <td>4</td>\n",
       "      <td>0.002803</td>\n",
       "      <td>-0.028150</td>\n",
       "      <td>0.004090</td>\n",
       "      <td>-0.012030</td>\n",
       "    </tr>\n",
       "    <tr>\n",
       "      <th>1</th>\n",
       "      <td>F0007/MID1/P00073_face2.jpg</td>\n",
       "      <td>F0007/MID2/P00081_face1.jpg</td>\n",
       "      <td>F0007/MID6/P00073_face3.jpg</td>\n",
       "      <td>1</td>\n",
       "      <td>FMD</td>\n",
       "      <td>F0007</td>\n",
       "      <td>F0007/MID1</td>\n",
       "      <td>F0007/MID2</td>\n",
       "      <td>F0007/MID6</td>\n",
       "      <td>4</td>\n",
       "      <td>0.002803</td>\n",
       "      <td>0.153014</td>\n",
       "      <td>0.265303</td>\n",
       "      <td>0.209159</td>\n",
       "    </tr>\n",
       "    <tr>\n",
       "      <th>2</th>\n",
       "      <td>F0007/MID1/P00077_face12.jpg</td>\n",
       "      <td>F0007/MID2/P00074_face0.jpg</td>\n",
       "      <td>F0007/MID4/P00074_face5.jpg</td>\n",
       "      <td>1</td>\n",
       "      <td>FMD</td>\n",
       "      <td>F0007</td>\n",
       "      <td>F0007/MID1</td>\n",
       "      <td>F0007/MID2</td>\n",
       "      <td>F0007/MID4</td>\n",
       "      <td>4</td>\n",
       "      <td>0.002803</td>\n",
       "      <td>0.165362</td>\n",
       "      <td>0.115922</td>\n",
       "      <td>0.140642</td>\n",
       "    </tr>\n",
       "    <tr>\n",
       "      <th>3</th>\n",
       "      <td>F0007/MID1/P00077_face12.jpg</td>\n",
       "      <td>F0007/MID2/P11277_face2.jpg</td>\n",
       "      <td>F0007/MID5/P00076_face0.jpg</td>\n",
       "      <td>1</td>\n",
       "      <td>FMD</td>\n",
       "      <td>F0007</td>\n",
       "      <td>F0007/MID1</td>\n",
       "      <td>F0007/MID2</td>\n",
       "      <td>F0007/MID5</td>\n",
       "      <td>4</td>\n",
       "      <td>0.002803</td>\n",
       "      <td>0.140530</td>\n",
       "      <td>0.380819</td>\n",
       "      <td>0.260674</td>\n",
       "    </tr>\n",
       "    <tr>\n",
       "      <th>4</th>\n",
       "      <td>F0007/MID1/P00079_face1.jpg</td>\n",
       "      <td>F0007/MID2/P00074_face0.jpg</td>\n",
       "      <td>F0007/MID4/P00074_face5.jpg</td>\n",
       "      <td>1</td>\n",
       "      <td>FMD</td>\n",
       "      <td>F0007</td>\n",
       "      <td>F0007/MID1</td>\n",
       "      <td>F0007/MID2</td>\n",
       "      <td>F0007/MID4</td>\n",
       "      <td>4</td>\n",
       "      <td>0.002803</td>\n",
       "      <td>0.114652</td>\n",
       "      <td>0.115922</td>\n",
       "      <td>0.115287</td>\n",
       "    </tr>\n",
       "  </tbody>\n",
       "</table>\n",
       "</div>"
      ],
      "text/plain": [
       "                             If                           Im  \\\n",
       "0   F0007/MID1/P00073_face2.jpg  F0007/MID2/P00078_face2.jpg   \n",
       "1   F0007/MID1/P00073_face2.jpg  F0007/MID2/P00081_face1.jpg   \n",
       "2  F0007/MID1/P00077_face12.jpg  F0007/MID2/P00074_face0.jpg   \n",
       "3  F0007/MID1/P00077_face12.jpg  F0007/MID2/P11277_face2.jpg   \n",
       "4   F0007/MID1/P00079_face1.jpg  F0007/MID2/P00074_face0.jpg   \n",
       "\n",
       "                            Ic  label  tag    FID           F           M  \\\n",
       "0  F0007/MID6/P00074_face1.jpg      1  FMD  F0007  F0007/MID1  F0007/MID2   \n",
       "1  F0007/MID6/P00073_face3.jpg      1  FMD  F0007  F0007/MID1  F0007/MID2   \n",
       "2  F0007/MID4/P00074_face5.jpg      1  FMD  F0007  F0007/MID1  F0007/MID2   \n",
       "3  F0007/MID5/P00076_face0.jpg      1  FMD  F0007  F0007/MID1  F0007/MID2   \n",
       "4  F0007/MID4/P00074_face5.jpg      1  FMD  F0007  F0007/MID1  F0007/MID2   \n",
       "\n",
       "            C  count  reversed_weights  score_fc  score_mc     score  \n",
       "0  F0007/MID6      4          0.002803 -0.028150  0.004090 -0.012030  \n",
       "1  F0007/MID6      4          0.002803  0.153014  0.265303  0.209159  \n",
       "2  F0007/MID4      4          0.002803  0.165362  0.115922  0.140642  \n",
       "3  F0007/MID5      4          0.002803  0.140530  0.380819  0.260674  \n",
       "4  F0007/MID4      4          0.002803  0.114652  0.115922  0.115287  "
      ]
     },
     "execution_count": 18,
     "metadata": {},
     "output_type": "execute_result"
    }
   ],
   "source": [
    "df_val.head()"
   ]
  },
  {
   "cell_type": "code",
   "execution_count": 19,
   "metadata": {
    "collapsed": false,
    "jupyter": {
     "outputs_hidden": false
    },
    "pycharm": {
     "name": "#%%\n"
    }
   },
   "outputs": [
    {
     "data": {
      "text/html": [
       "<div>\n",
       "<style scoped>\n",
       "    .dataframe tbody tr th:only-of-type {\n",
       "        vertical-align: middle;\n",
       "    }\n",
       "\n",
       "    .dataframe tbody tr th {\n",
       "        vertical-align: top;\n",
       "    }\n",
       "\n",
       "    .dataframe thead th {\n",
       "        text-align: right;\n",
       "    }\n",
       "</style>\n",
       "<table border=\"1\" class=\"dataframe\">\n",
       "  <thead>\n",
       "    <tr style=\"text-align: right;\">\n",
       "      <th></th>\n",
       "      <th>If</th>\n",
       "      <th>Im</th>\n",
       "      <th>Ic</th>\n",
       "      <th>label</th>\n",
       "      <th>tag</th>\n",
       "      <th>FID</th>\n",
       "      <th>F</th>\n",
       "      <th>M</th>\n",
       "      <th>C</th>\n",
       "      <th>count</th>\n",
       "      <th>reversed_weights</th>\n",
       "      <th>score_fc</th>\n",
       "      <th>score_mc</th>\n",
       "      <th>score</th>\n",
       "    </tr>\n",
       "  </thead>\n",
       "  <tbody>\n",
       "    <tr>\n",
       "      <th>3563</th>\n",
       "      <td>F0999/MID1/P10554_face0.jpg</td>\n",
       "      <td>F0999/MID4/P10558_face0.jpg</td>\n",
       "      <td>F0123/MID6/P01278_face1.jpg</td>\n",
       "      <td>0</td>\n",
       "      <td>FMS</td>\n",
       "      <td>F0999</td>\n",
       "      <td>F0999/MID1</td>\n",
       "      <td>F0999/MID4</td>\n",
       "      <td>F0123/MID6</td>\n",
       "      <td>5</td>\n",
       "      <td>0.002242</td>\n",
       "      <td>0.044601</td>\n",
       "      <td>-0.154332</td>\n",
       "      <td>-0.054866</td>\n",
       "    </tr>\n",
       "    <tr>\n",
       "      <th>3564</th>\n",
       "      <td>F0999/MID1/P10554_face0.jpg</td>\n",
       "      <td>F0999/MID4/P10558_face0.jpg</td>\n",
       "      <td>F0422/MID1/P04454_face3.jpg</td>\n",
       "      <td>0</td>\n",
       "      <td>FMS</td>\n",
       "      <td>F0999</td>\n",
       "      <td>F0999/MID1</td>\n",
       "      <td>F0999/MID4</td>\n",
       "      <td>F0422/MID1</td>\n",
       "      <td>5</td>\n",
       "      <td>0.002242</td>\n",
       "      <td>0.063158</td>\n",
       "      <td>-0.086713</td>\n",
       "      <td>-0.011777</td>\n",
       "    </tr>\n",
       "    <tr>\n",
       "      <th>3565</th>\n",
       "      <td>F0999/MID1/P10554_face0.jpg</td>\n",
       "      <td>F0999/MID4/P10552_face1.jpg</td>\n",
       "      <td>F0438/MID6/P04637_face1.jpg</td>\n",
       "      <td>0</td>\n",
       "      <td>FMS</td>\n",
       "      <td>F0999</td>\n",
       "      <td>F0999/MID1</td>\n",
       "      <td>F0999/MID4</td>\n",
       "      <td>F0438/MID6</td>\n",
       "      <td>5</td>\n",
       "      <td>0.002803</td>\n",
       "      <td>-0.079974</td>\n",
       "      <td>-0.026765</td>\n",
       "      <td>-0.053370</td>\n",
       "    </tr>\n",
       "    <tr>\n",
       "      <th>3566</th>\n",
       "      <td>F1004/MID2/P13032_face0.jpg</td>\n",
       "      <td>F1004/MID1/P13035_face0.jpg</td>\n",
       "      <td>F0283/MID5/P03026_face0.jpg</td>\n",
       "      <td>0</td>\n",
       "      <td>FMS</td>\n",
       "      <td>F1004</td>\n",
       "      <td>F1004/MID2</td>\n",
       "      <td>F1004/MID1</td>\n",
       "      <td>F0283/MID5</td>\n",
       "      <td>5</td>\n",
       "      <td>0.000561</td>\n",
       "      <td>0.136953</td>\n",
       "      <td>0.021686</td>\n",
       "      <td>0.079320</td>\n",
       "    </tr>\n",
       "    <tr>\n",
       "      <th>3567</th>\n",
       "      <td>F1004/MID2/P13033_face0.jpg</td>\n",
       "      <td>F1004/MID1/P13033_face2.jpg</td>\n",
       "      <td>F0826/MID3/P08740_face10.jpg</td>\n",
       "      <td>0</td>\n",
       "      <td>FMS</td>\n",
       "      <td>F1004</td>\n",
       "      <td>F1004/MID2</td>\n",
       "      <td>F1004/MID1</td>\n",
       "      <td>F0826/MID3</td>\n",
       "      <td>5</td>\n",
       "      <td>0.000561</td>\n",
       "      <td>-0.013962</td>\n",
       "      <td>0.037142</td>\n",
       "      <td>0.011590</td>\n",
       "    </tr>\n",
       "  </tbody>\n",
       "</table>\n",
       "</div>"
      ],
      "text/plain": [
       "                               If                           Im  \\\n",
       "3563  F0999/MID1/P10554_face0.jpg  F0999/MID4/P10558_face0.jpg   \n",
       "3564  F0999/MID1/P10554_face0.jpg  F0999/MID4/P10558_face0.jpg   \n",
       "3565  F0999/MID1/P10554_face0.jpg  F0999/MID4/P10552_face1.jpg   \n",
       "3566  F1004/MID2/P13032_face0.jpg  F1004/MID1/P13035_face0.jpg   \n",
       "3567  F1004/MID2/P13033_face0.jpg  F1004/MID1/P13033_face2.jpg   \n",
       "\n",
       "                                Ic  label  tag    FID           F           M  \\\n",
       "3563   F0123/MID6/P01278_face1.jpg      0  FMS  F0999  F0999/MID1  F0999/MID4   \n",
       "3564   F0422/MID1/P04454_face3.jpg      0  FMS  F0999  F0999/MID1  F0999/MID4   \n",
       "3565   F0438/MID6/P04637_face1.jpg      0  FMS  F0999  F0999/MID1  F0999/MID4   \n",
       "3566   F0283/MID5/P03026_face0.jpg      0  FMS  F1004  F1004/MID2  F1004/MID1   \n",
       "3567  F0826/MID3/P08740_face10.jpg      0  FMS  F1004  F1004/MID2  F1004/MID1   \n",
       "\n",
       "               C  count  reversed_weights  score_fc  score_mc     score  \n",
       "3563  F0123/MID6      5          0.002242  0.044601 -0.154332 -0.054866  \n",
       "3564  F0422/MID1      5          0.002242  0.063158 -0.086713 -0.011777  \n",
       "3565  F0438/MID6      5          0.002803 -0.079974 -0.026765 -0.053370  \n",
       "3566  F0283/MID5      5          0.000561  0.136953  0.021686  0.079320  \n",
       "3567  F0826/MID3      5          0.000561 -0.013962  0.037142  0.011590  "
      ]
     },
     "execution_count": 19,
     "metadata": {},
     "output_type": "execute_result"
    }
   ],
   "source": [
    "df_val.tail()"
   ]
  },
  {
   "cell_type": "code",
   "execution_count": 20,
   "metadata": {
    "collapsed": false,
    "jupyter": {
     "outputs_hidden": false
    },
    "pycharm": {
     "name": "#%% Genderate ROC stats and AUC\n"
    }
   },
   "outputs": [],
   "source": [
    "df_val['label']=df_val['label'].astype(np.uint)\n",
    "fpr, tpr, threshold = roc_curve(df_val['label'], df_val['score'])\n",
    "\n",
    "auc = roc_auc_score(df_val['label'], df_val['score'])"
   ]
  },
  {
   "cell_type": "code",
   "execution_count": 21,
   "metadata": {
    "collapsed": false,
    "jupyter": {
     "outputs_hidden": false
    },
    "pycharm": {
     "name": "#%% Plot ROC against random\n"
    }
   },
   "outputs": [
    {
     "data": {
      "image/png": "[encoded data removed]",
      "text/plain": [
       "<Figure size 432x288 with 1 Axes>"
      ]
     },
     "metadata": {},
     "output_type": "display_data"
    }
   ],
   "source": [
    "plt.figure()\n",
    "plt.plot(fpr, tpr, color='darkorange', lw=2, label='ROC (AUC: %0.2f)' % auc)\n",
    "plt.plot([0, 1], [0, 1], color='navy', lw=2, linestyle='--', label='Random (AUC: 0.50)')\n",
    "plt.xlim([0.0, 1.0])\n",
    "plt.ylim([0.0, 1.05])\n",
    "plt.xlabel('False Positive Rate')\n",
    "plt.ylabel('True Positive Rate')\n",
    "plt.title('ROC All Types Averaged')\n",
    "plt.legend(loc=\"best\")\n",
    "plt.show()"
   ]
  },
  {
   "cell_type": "markdown",
   "metadata": {},
   "source": [
    "Next plot signal detection models (SDM) for each relationship type. From this, the distribution of scores as a \n",
    "function of label (i.e., KIN vs NON-KIN) can be compared."
   ]
  },
  {
   "cell_type": "code",
   "execution_count": 24,
   "metadata": {
    "collapsed": false,
    "jupyter": {
     "outputs_hidden": false
    },
    "pycharm": {
     "name": "#%%\n"
    }
   },
   "outputs": [
    {
     "data": {
      "text/plain": [
       "<Figure size 432x288 with 0 Axes>"
      ]
     },
     "metadata": {},
     "output_type": "display_data"
    },
    {
     "data": {
      "image/png": "[encoded data removed]",
      "text/plain": [
       "<Figure size 648x360 with 2 Axes>"
      ]
     },
     "metadata": {},
     "output_type": "display_data"
    }
   ],
   "source": [
    "sns.despine(left=True)\n",
    "\n",
    "f, axs = plt.subplots(1, 2,figsize=(9,5), sharex=True, sharey=True)\n",
    "\n",
    "for i in range(len(relationship_types)):\n",
    "    df_cur = df_val.loc[df_val.tag == relationship_types[i],['score', 'label']]\n",
    "    sns.distplot(df_cur.loc[df_cur.label==1,'score'],hist=True, label='True',ax=axs[i],color='g')\n",
    "    sns.distplot(df_cur.loc[df_cur.label==0,'score'], hist=True,label='False',ax=axs[i],color='r')\n",
    "    axs[i].set_title(relationship_types[0])\n",
    "    axs[i].set_xlabel('')\n",
    "    \n",
    "axs[0].set_ylabel('Frequency')"
   ]
  },
  {
   "cell_type": "markdown",
   "metadata": {},
   "source": [
    "Similar to SDM, but let's look at boxen plots as means of another visualization of two-class separability."
   ]
  }
 ],
 "metadata": {
  "kernelspec": {
   "display_name": "Python 3",
   "language": "python",
   "name": "python3"
  },
  "language_info": {
   "codemirror_mode": {
    "name": "ipython",
    "version": 3
   },
   "file_extension": ".py",
   "mimetype": "text/x-python",
   "name": "python",
   "nbconvert_exporter": "python",
   "pygments_lexer": "ipython3",
   "version": "3.8.1"
  },
  "pycharm": {
   "stem_cell": {
    "cell_type": "raw",
    "metadata": {
     "collapsed": false
    },
    "source": []
   }
  }
 },
 "nbformat": 4,
 "nbformat_minor": 4
}
