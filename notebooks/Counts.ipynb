{
 "cells": [
  {
   "cell_type": "code",
   "execution_count": 106,
   "metadata": {},
   "outputs": [],
   "source": [
    "family_members = pd.read_csv(\"/Users/zkhan/Dropbox/FIW_Video/family_members.csv\")\n",
    "families_processed = pd.read_csv(\"/Users/zkhan/Dropbox/FIW_Video/families_processed.csv\")\n",
    "fiwdb = Path(\"/Users/zkhan/master-version/fiwdb/FIDs/\")"
   ]
  },
  {
   "cell_type": "markdown",
   "metadata": {},
   "source": [
    "# How many distinct individuals per family?"
   ]
  },
  {
   "cell_type": "code",
   "execution_count": 107,
   "metadata": {},
   "outputs": [
    {
     "data": {
      "text/html": [
       "<div>\n",
       "<style scoped>\n",
       "    .dataframe tbody tr th:only-of-type {\n",
       "        vertical-align: middle;\n",
       "    }\n",
       "\n",
       "    .dataframe tbody tr th {\n",
       "        vertical-align: top;\n",
       "    }\n",
       "\n",
       "    .dataframe thead th {\n",
       "        text-align: right;\n",
       "    }\n",
       "</style>\n",
       "<table border=\"1\" class=\"dataframe\">\n",
       "  <thead>\n",
       "    <tr style=\"text-align: right;\">\n",
       "      <th></th>\n",
       "      <th>num_members</th>\n",
       "    </tr>\n",
       "    <tr>\n",
       "      <th>fid</th>\n",
       "      <th></th>\n",
       "    </tr>\n",
       "  </thead>\n",
       "  <tbody>\n",
       "    <tr>\n",
       "      <th>F0008</th>\n",
       "      <td>2</td>\n",
       "    </tr>\n",
       "    <tr>\n",
       "      <th>F0009</th>\n",
       "      <td>7</td>\n",
       "    </tr>\n",
       "    <tr>\n",
       "      <th>F0011</th>\n",
       "      <td>4</td>\n",
       "    </tr>\n",
       "    <tr>\n",
       "      <th>F0012</th>\n",
       "      <td>3</td>\n",
       "    </tr>\n",
       "    <tr>\n",
       "      <th>F0013</th>\n",
       "      <td>2</td>\n",
       "    </tr>\n",
       "  </tbody>\n",
       "</table>\n",
       "</div>"
      ],
      "text/plain": [
       "       num_members\n",
       "fid               \n",
       "F0008            2\n",
       "F0009            7\n",
       "F0011            4\n",
       "F0012            3\n",
       "F0013            2"
      ]
     },
     "execution_count": 107,
     "metadata": {},
     "output_type": "execute_result"
    }
   ],
   "source": [
    "members_per_family = family_members.\\\n",
    "dropna(subset=[\"video\"], how='any').\\\n",
    "groupby('fid').count().\\\n",
    "rename({'surname': 'num_members'}, axis=1)['num_members'].\\\n",
    "to_frame()\n",
    "\n",
    "members_per_family.to_csv('./members_per_family.csv')\n",
    "\n",
    "members_per_family.head()"
   ]
  },
  {
   "cell_type": "markdown",
   "metadata": {},
   "source": [
    "# How many unique videos per family?"
   ]
  },
  {
   "cell_type": "code",
   "execution_count": 108,
   "metadata": {},
   "outputs": [],
   "source": [
    "vids_per_family = pd.DataFrame(columns=['fid', 'surname', 'num_videos']).set_index('fid')\n",
    "for (fid, surname), family in family_members.dropna(subset=['video'], how='any').groupby(['fid', 'surname']):\n",
    "    videos_for_family = {url for url in  \n",
    "        itertools.chain(family['video'].dropna().values,\n",
    "                        family['video2'].dropna().values,\n",
    "                        family['video3'].dropna().values,\n",
    "                       )\n",
    "    }\n",
    "    vids_per_family.loc[fid, 'surname'] = surname\n",
    "    vids_per_family.loc[fid, 'num_videos'] = len(videos_for_family)\n",
    "    \n",
    "vids_per_family.to_csv('./videos_per_family.csv')"
   ]
  },
  {
   "cell_type": "code",
   "execution_count": 109,
   "metadata": {},
   "outputs": [
    {
     "data": {
      "text/html": [
       "<div>\n",
       "<style scoped>\n",
       "    .dataframe tbody tr th:only-of-type {\n",
       "        vertical-align: middle;\n",
       "    }\n",
       "\n",
       "    .dataframe tbody tr th {\n",
       "        vertical-align: top;\n",
       "    }\n",
       "\n",
       "    .dataframe thead th {\n",
       "        text-align: right;\n",
       "    }\n",
       "</style>\n",
       "<table border=\"1\" class=\"dataframe\">\n",
       "  <thead>\n",
       "    <tr style=\"text-align: right;\">\n",
       "      <th></th>\n",
       "      <th>surname</th>\n",
       "      <th>num_videos</th>\n",
       "    </tr>\n",
       "    <tr>\n",
       "      <th>fid</th>\n",
       "      <th></th>\n",
       "      <th></th>\n",
       "    </tr>\n",
       "  </thead>\n",
       "  <tbody>\n",
       "    <tr>\n",
       "      <th>F0008</th>\n",
       "      <td>affleck.ben</td>\n",
       "      <td>4</td>\n",
       "    </tr>\n",
       "    <tr>\n",
       "      <th>F0009</th>\n",
       "      <td>gronkowski.rob</td>\n",
       "      <td>7</td>\n",
       "    </tr>\n",
       "    <tr>\n",
       "      <th>F0011</th>\n",
       "      <td>aguilera.christina</td>\n",
       "      <td>2</td>\n",
       "    </tr>\n",
       "    <tr>\n",
       "      <th>F0012</th>\n",
       "      <td>aikman.troy</td>\n",
       "      <td>3</td>\n",
       "    </tr>\n",
       "    <tr>\n",
       "      <th>F0013</th>\n",
       "      <td>al-assad.bashar</td>\n",
       "      <td>4</td>\n",
       "    </tr>\n",
       "  </tbody>\n",
       "</table>\n",
       "</div>"
      ],
      "text/plain": [
       "                  surname num_videos\n",
       "fid                                 \n",
       "F0008         affleck.ben          4\n",
       "F0009      gronkowski.rob          7\n",
       "F0011  aguilera.christina          2\n",
       "F0012         aikman.troy          3\n",
       "F0013     al-assad.bashar          4"
      ]
     },
     "execution_count": 109,
     "metadata": {},
     "output_type": "execute_result"
    }
   ],
   "source": [
    "vids_per_family.head()"
   ]
  },
  {
   "cell_type": "markdown",
   "metadata": {},
   "source": [
    "# How many pairs are possible?"
   ]
  },
  {
   "cell_type": "code",
   "execution_count": 110,
   "metadata": {},
   "outputs": [],
   "source": [
    "kin_pairs = [] \n",
    "for (fid, surname), family in family_members.dropna(subset=['video'], how='any').groupby(['fid', 'surname']):\n",
    "    pairs_for_family = itertools.combinations(family['mid'].values, r=2)\n",
    "    for (p1_mid, p2_mid) in pairs_for_family:\n",
    "        \n",
    "        kin_pairs.append((\n",
    "            surname,\n",
    "            f'{fid}/MID{p1_mid}',\n",
    "            f'{fid}/MID{p2_mid}',\n",
    "        ))\n",
    "        \n",
    "kin_pairs = pd.DataFrame.from_records(kin_pairs, columns=['surname', 'p1', 'p2'])"
   ]
  },
  {
   "cell_type": "code",
   "execution_count": 111,
   "metadata": {},
   "outputs": [
    {
     "data": {
      "text/html": [
       "<div>\n",
       "<style scoped>\n",
       "    .dataframe tbody tr th:only-of-type {\n",
       "        vertical-align: middle;\n",
       "    }\n",
       "\n",
       "    .dataframe tbody tr th {\n",
       "        vertical-align: top;\n",
       "    }\n",
       "\n",
       "    .dataframe thead th {\n",
       "        text-align: right;\n",
       "    }\n",
       "</style>\n",
       "<table border=\"1\" class=\"dataframe\">\n",
       "  <thead>\n",
       "    <tr style=\"text-align: right;\">\n",
       "      <th></th>\n",
       "      <th>surname</th>\n",
       "      <th>p1</th>\n",
       "      <th>p2</th>\n",
       "    </tr>\n",
       "  </thead>\n",
       "  <tbody>\n",
       "    <tr>\n",
       "      <th>0</th>\n",
       "      <td>affleck.ben</td>\n",
       "      <td>F0008/MID1</td>\n",
       "      <td>F0008/MID4</td>\n",
       "    </tr>\n",
       "    <tr>\n",
       "      <th>1</th>\n",
       "      <td>gronkowski.rob</td>\n",
       "      <td>F0009/MID1</td>\n",
       "      <td>F0009/MID2</td>\n",
       "    </tr>\n",
       "    <tr>\n",
       "      <th>2</th>\n",
       "      <td>gronkowski.rob</td>\n",
       "      <td>F0009/MID1</td>\n",
       "      <td>F0009/MID3</td>\n",
       "    </tr>\n",
       "    <tr>\n",
       "      <th>3</th>\n",
       "      <td>gronkowski.rob</td>\n",
       "      <td>F0009/MID1</td>\n",
       "      <td>F0009/MID4</td>\n",
       "    </tr>\n",
       "    <tr>\n",
       "      <th>4</th>\n",
       "      <td>gronkowski.rob</td>\n",
       "      <td>F0009/MID1</td>\n",
       "      <td>F0009/MID5</td>\n",
       "    </tr>\n",
       "    <tr>\n",
       "      <th>...</th>\n",
       "      <td>...</td>\n",
       "      <td>...</td>\n",
       "      <td>...</td>\n",
       "    </tr>\n",
       "    <tr>\n",
       "      <th>706</th>\n",
       "      <td>sweden.royal.family</td>\n",
       "      <td>F0986/MID5</td>\n",
       "      <td>F0986/MID7</td>\n",
       "    </tr>\n",
       "    <tr>\n",
       "      <th>707</th>\n",
       "      <td>sweden.royal.family</td>\n",
       "      <td>F0986/MID5</td>\n",
       "      <td>F0986/MID8</td>\n",
       "    </tr>\n",
       "    <tr>\n",
       "      <th>708</th>\n",
       "      <td>sweden.royal.family</td>\n",
       "      <td>F0986/MID6</td>\n",
       "      <td>F0986/MID7</td>\n",
       "    </tr>\n",
       "    <tr>\n",
       "      <th>709</th>\n",
       "      <td>sweden.royal.family</td>\n",
       "      <td>F0986/MID6</td>\n",
       "      <td>F0986/MID8</td>\n",
       "    </tr>\n",
       "    <tr>\n",
       "      <th>710</th>\n",
       "      <td>sweden.royal.family</td>\n",
       "      <td>F0986/MID7</td>\n",
       "      <td>F0986/MID8</td>\n",
       "    </tr>\n",
       "  </tbody>\n",
       "</table>\n",
       "<p>711 rows × 3 columns</p>\n",
       "</div>"
      ],
      "text/plain": [
       "                 surname          p1          p2\n",
       "0            affleck.ben  F0008/MID1  F0008/MID4\n",
       "1         gronkowski.rob  F0009/MID1  F0009/MID2\n",
       "2         gronkowski.rob  F0009/MID1  F0009/MID3\n",
       "3         gronkowski.rob  F0009/MID1  F0009/MID4\n",
       "4         gronkowski.rob  F0009/MID1  F0009/MID5\n",
       "..                   ...         ...         ...\n",
       "706  sweden.royal.family  F0986/MID5  F0986/MID7\n",
       "707  sweden.royal.family  F0986/MID5  F0986/MID8\n",
       "708  sweden.royal.family  F0986/MID6  F0986/MID7\n",
       "709  sweden.royal.family  F0986/MID6  F0986/MID8\n",
       "710  sweden.royal.family  F0986/MID7  F0986/MID8\n",
       "\n",
       "[711 rows x 3 columns]"
      ]
     },
     "execution_count": 111,
     "metadata": {},
     "output_type": "execute_result"
    }
   ],
   "source": [
    "kin_pairs"
   ]
  },
  {
   "cell_type": "markdown",
   "metadata": {},
   "source": [
    "# What are the counts of each relationship type?"
   ]
  },
  {
   "cell_type": "code",
   "execution_count": 112,
   "metadata": {},
   "outputs": [],
   "source": [
    "rid = pd.read_csv(\"/Users/zkhan/master-version/fiwdb/FIW_RIDs.csv\").set_index(\"RID\").dropna().to_dict()[\"Label\"]"
   ]
  },
  {
   "cell_type": "code",
   "execution_count": 113,
   "metadata": {},
   "outputs": [],
   "source": [
    "relmats = {folder.stem: pd.read_csv(folder / \"mid.csv\").set_index(\"MID\") for folder in fiwdb.glob(\"F*\")}"
   ]
  },
  {
   "cell_type": "code",
   "execution_count": 114,
   "metadata": {},
   "outputs": [],
   "source": [
    "def proper_relationship(p1, p2, relmats, rid):\n",
    "    fid1, mid1, *rest = p1.split(\"/\")\n",
    "    fid2, mid2, *rest = p2.split(\"/\")\n",
    "    mid1 = int(mid1.split(\"MID\")[-1])\n",
    "    mid2 = int(mid2.split(\"MID\")[-1])\n",
    "    if fid1 != fid2:\n",
    "        return \"NOT_RELATED\"\n",
    "    \n",
    "    matrix = relmats[fid1]\n",
    "    p1_gender = matrix.loc[mid1, \"Gender\"][0]\n",
    "    p2_gender = matrix.loc[mid2, \"Gender\"][0]\n",
    "    p1_male = p1_gender == \"m\"\n",
    "    p2_male = p2_gender == \"m\"\n",
    "    \n",
    "    rel_idx = matrix.loc[mid1][str(mid2)]\n",
    "    \n",
    "    if rel_idx not in rid:\n",
    "        return 'NOT_RELATED'\n",
    "    try:\n",
    "        rel = rid[rel_idx]\n",
    "    except:\n",
    "        print(matrix)\n",
    "        raise\n",
    "        \n",
    "    if rel == \"Child\":\n",
    "        p1_role = \"son\" if p1_male else \"daughter\"\n",
    "        p2_role = \"father\" if p2_male else \"mother\"\n",
    "    elif rel == \"Parent\":\n",
    "        p1_role = \"father\" if p1_male  else \"mother\"\n",
    "        p2_role = \"son\" if p2_male else \"daughter\"\n",
    "    elif rel == \"Grandparent\":\n",
    "        p1_role = \"grandfather\" if p1_male else \"grandmother\"\n",
    "        p2_role = \"grandson\" if p2_male else \"granddaughter\"\n",
    "    elif rel == \"Grandchild\":\n",
    "        p1_role = \"grandson\" if p1_male else \"granddaughter\"\n",
    "        p2_role = \"grandfather\" if p2_male else \"grandmother\"\n",
    "    elif rel == \"Sibling\":\n",
    "        if p1_male and p2_male:\n",
    "            p1_role, p2_role = \"brother\", \"brother\"\n",
    "        elif (not p1_male) and (not p2_male):\n",
    "            p1_role, p2_role = \"sister\", \"sister\"\n",
    "        else:\n",
    "            p1_role, p2_role = \"sibling\", \"sibling\"\n",
    "    elif rel == 'Spouse':\n",
    "        p1_role, p2_role = 'spouse', 'spouse'\n",
    "    elif rel == \"Great Grandparent\":\n",
    "        p1_role = \"greatgrandfather\" if p1_male else \"greatgrandmother\"\n",
    "        p2_role = \"greatgrandson\" if p2_male else \"greatgranddaughter\"\n",
    "    else:\n",
    "        print(rel)\n",
    "        p1_role, p2_role = 'unknown', ''\n",
    "    return \"-\".join(sorted([p1_role, p2_role]))"
   ]
  },
  {
   "cell_type": "code",
   "execution_count": 115,
   "metadata": {},
   "outputs": [],
   "source": [
    "proper_roles = []\n",
    "for row in kin_pairs.itertuples():\n",
    "    try:\n",
    "        proper_roles.append(proper_relationship(row.p1, row.p2, relmats, rid))\n",
    "    except:\n",
    "        print(row)\n",
    "        break"
   ]
  },
  {
   "cell_type": "code",
   "execution_count": 116,
   "metadata": {},
   "outputs": [],
   "source": [
    "kin_pairs[\"ptype\"] = pd.Series(proper_roles)"
   ]
  },
  {
   "cell_type": "code",
   "execution_count": 117,
   "metadata": {},
   "outputs": [
    {
     "data": {
      "text/html": [
       "<div>\n",
       "<style scoped>\n",
       "    .dataframe tbody tr th:only-of-type {\n",
       "        vertical-align: middle;\n",
       "    }\n",
       "\n",
       "    .dataframe tbody tr th {\n",
       "        vertical-align: top;\n",
       "    }\n",
       "\n",
       "    .dataframe thead th {\n",
       "        text-align: right;\n",
       "    }\n",
       "</style>\n",
       "<table border=\"1\" class=\"dataframe\">\n",
       "  <thead>\n",
       "    <tr style=\"text-align: right;\">\n",
       "      <th></th>\n",
       "      <th>num_pairs</th>\n",
       "    </tr>\n",
       "    <tr>\n",
       "      <th>ptype</th>\n",
       "      <th></th>\n",
       "    </tr>\n",
       "  </thead>\n",
       "  <tbody>\n",
       "    <tr>\n",
       "      <th>NOT_RELATED</th>\n",
       "      <td>126</td>\n",
       "    </tr>\n",
       "    <tr>\n",
       "      <th>daughter-father</th>\n",
       "      <td>94</td>\n",
       "    </tr>\n",
       "    <tr>\n",
       "      <th>father-son</th>\n",
       "      <td>90</td>\n",
       "    </tr>\n",
       "    <tr>\n",
       "      <th>brother-brother</th>\n",
       "      <td>80</td>\n",
       "    </tr>\n",
       "    <tr>\n",
       "      <th>mother-son</th>\n",
       "      <td>73</td>\n",
       "    </tr>\n",
       "    <tr>\n",
       "      <th>spouse-spouse</th>\n",
       "      <td>67</td>\n",
       "    </tr>\n",
       "    <tr>\n",
       "      <th>daughter-mother</th>\n",
       "      <td>57</td>\n",
       "    </tr>\n",
       "    <tr>\n",
       "      <th>sibling-sibling</th>\n",
       "      <td>45</td>\n",
       "    </tr>\n",
       "    <tr>\n",
       "      <th>sister-sister</th>\n",
       "      <td>43</td>\n",
       "    </tr>\n",
       "    <tr>\n",
       "      <th>grandfather-grandson</th>\n",
       "      <td>9</td>\n",
       "    </tr>\n",
       "    <tr>\n",
       "      <th>granddaughter-grandmother</th>\n",
       "      <td>9</td>\n",
       "    </tr>\n",
       "    <tr>\n",
       "      <th>granddaughter-grandfather</th>\n",
       "      <td>8</td>\n",
       "    </tr>\n",
       "    <tr>\n",
       "      <th>grandmother-grandson</th>\n",
       "      <td>6</td>\n",
       "    </tr>\n",
       "    <tr>\n",
       "      <th>greatgrandfather-greatgrandson</th>\n",
       "      <td>2</td>\n",
       "    </tr>\n",
       "    <tr>\n",
       "      <th>greatgranddaughter-greatgrandfather</th>\n",
       "      <td>2</td>\n",
       "    </tr>\n",
       "  </tbody>\n",
       "</table>\n",
       "</div>"
      ],
      "text/plain": [
       "                                     num_pairs\n",
       "ptype                                         \n",
       "NOT_RELATED                                126\n",
       "daughter-father                             94\n",
       "father-son                                  90\n",
       "brother-brother                             80\n",
       "mother-son                                  73\n",
       "spouse-spouse                               67\n",
       "daughter-mother                             57\n",
       "sibling-sibling                             45\n",
       "sister-sister                               43\n",
       "grandfather-grandson                         9\n",
       "granddaughter-grandmother                    9\n",
       "granddaughter-grandfather                    8\n",
       "grandmother-grandson                         6\n",
       "greatgrandfather-greatgrandson               2\n",
       "greatgranddaughter-greatgrandfather          2"
      ]
     },
     "execution_count": 117,
     "metadata": {},
     "output_type": "execute_result"
    }
   ],
   "source": [
    "pair_type_counts = kin_pairs[\"ptype\"].value_counts().to_frame().rename({'ptype': 'num_pairs'}, axis=1)\n",
    "pair_type_counts.index.name = 'ptype'\n",
    "pair_type_counts.to_csv('./pair_type_counts.csv')\n",
    "pair_type_counts"
   ]
  },
  {
   "cell_type": "code",
   "execution_count": 118,
   "metadata": {},
   "outputs": [],
   "source": [
    "kin_pairs.to_csv('./kin_pairs.csv', index=False)"
   ]
  },
  {
   "cell_type": "markdown",
   "metadata": {},
   "source": [
    "# Number of videos per relationship type"
   ]
  },
  {
   "cell_type": "code",
   "execution_count": 119,
   "metadata": {},
   "outputs": [],
   "source": [
    "def get_clips_for_person(person, family_members):\n",
    "    \"\"\"\n",
    "    Get clips for an individual.\n",
    "    \n",
    "    person: \n",
    "        A string like 'F0008/MID1'.\n",
    "    \"\"\"\n",
    "    \n",
    "    fid = person.split('/')[0]\n",
    "    mid = int(person.split('/')[-1].split('MID')[-1])\n",
    "    row = family_members[family_members.fid.eq(fid) & family_members.mid.eq(mid)].iloc[0]\n",
    "    videos = (row.video, row.video2, row.video3)\n",
    "    videos = list(_ for _ in videos if not pd.isna(_))\n",
    "    return videos"
   ]
  },
  {
   "cell_type": "code",
   "execution_count": 120,
   "metadata": {},
   "outputs": [],
   "source": [
    "def count_clips_for_pair(p1, p2, family_members) -> int:\n",
    "    p1_clips = set(get_clips_for_person(p1, family_members))\n",
    "    p2_clips = set(get_clips_for_person(p2, family_members))\n",
    "    common_clips = p1_clips & p2_clips\n",
    "    p1_clips = p1_clips - common_clips\n",
    "    p2_clips = p2_clips - common_clips\n",
    "    return len(p1_clips) * len(p2_clips) + len(common_clips)"
   ]
  },
  {
   "cell_type": "code",
   "execution_count": 121,
   "metadata": {},
   "outputs": [],
   "source": [
    "clips_for_kin_pair = []\n",
    "for pair in kin_pairs.itertuples():\n",
    "    clips_for_kin_pair.append(\n",
    "        count_clips_for_pair(pair.p1, pair.p2, family_members)\n",
    "    )\n",
    "kin_pairs['clips_for_pair'] = pd.Series(clips_for_kin_pair)"
   ]
  },
  {
   "cell_type": "code",
   "execution_count": 122,
   "metadata": {},
   "outputs": [],
   "source": [
    "clips_for_pair = kin_pairs.groupby('ptype').agg({'clips_for_pair': 'sum'})"
   ]
  },
  {
   "cell_type": "code",
   "execution_count": 123,
   "metadata": {},
   "outputs": [],
   "source": [
    "clips_for_pair.to_csv('./clips_for_pair_types.csv')"
   ]
  },
  {
   "cell_type": "code",
   "execution_count": 124,
   "metadata": {},
   "outputs": [
    {
     "data": {
      "text/html": [
       "<div>\n",
       "<style scoped>\n",
       "    .dataframe tbody tr th:only-of-type {\n",
       "        vertical-align: middle;\n",
       "    }\n",
       "\n",
       "    .dataframe tbody tr th {\n",
       "        vertical-align: top;\n",
       "    }\n",
       "\n",
       "    .dataframe thead th {\n",
       "        text-align: right;\n",
       "    }\n",
       "</style>\n",
       "<table border=\"1\" class=\"dataframe\">\n",
       "  <thead>\n",
       "    <tr style=\"text-align: right;\">\n",
       "      <th></th>\n",
       "      <th>clips_for_pair</th>\n",
       "    </tr>\n",
       "    <tr>\n",
       "      <th>ptype</th>\n",
       "      <th></th>\n",
       "    </tr>\n",
       "  </thead>\n",
       "  <tbody>\n",
       "    <tr>\n",
       "      <th>NOT_RELATED</th>\n",
       "      <td>156</td>\n",
       "    </tr>\n",
       "    <tr>\n",
       "      <th>brother-brother</th>\n",
       "      <td>120</td>\n",
       "    </tr>\n",
       "    <tr>\n",
       "      <th>daughter-father</th>\n",
       "      <td>153</td>\n",
       "    </tr>\n",
       "    <tr>\n",
       "      <th>daughter-mother</th>\n",
       "      <td>145</td>\n",
       "    </tr>\n",
       "    <tr>\n",
       "      <th>father-son</th>\n",
       "      <td>129</td>\n",
       "    </tr>\n",
       "    <tr>\n",
       "      <th>granddaughter-grandfather</th>\n",
       "      <td>14</td>\n",
       "    </tr>\n",
       "    <tr>\n",
       "      <th>granddaughter-grandmother</th>\n",
       "      <td>20</td>\n",
       "    </tr>\n",
       "    <tr>\n",
       "      <th>grandfather-grandson</th>\n",
       "      <td>12</td>\n",
       "    </tr>\n",
       "    <tr>\n",
       "      <th>grandmother-grandson</th>\n",
       "      <td>7</td>\n",
       "    </tr>\n",
       "    <tr>\n",
       "      <th>greatgranddaughter-greatgrandfather</th>\n",
       "      <td>2</td>\n",
       "    </tr>\n",
       "    <tr>\n",
       "      <th>greatgrandfather-greatgrandson</th>\n",
       "      <td>2</td>\n",
       "    </tr>\n",
       "    <tr>\n",
       "      <th>mother-son</th>\n",
       "      <td>132</td>\n",
       "    </tr>\n",
       "    <tr>\n",
       "      <th>sibling-sibling</th>\n",
       "      <td>81</td>\n",
       "    </tr>\n",
       "    <tr>\n",
       "      <th>sister-sister</th>\n",
       "      <td>79</td>\n",
       "    </tr>\n",
       "    <tr>\n",
       "      <th>spouse-spouse</th>\n",
       "      <td>107</td>\n",
       "    </tr>\n",
       "  </tbody>\n",
       "</table>\n",
       "</div>"
      ],
      "text/plain": [
       "                                     clips_for_pair\n",
       "ptype                                              \n",
       "NOT_RELATED                                     156\n",
       "brother-brother                                 120\n",
       "daughter-father                                 153\n",
       "daughter-mother                                 145\n",
       "father-son                                      129\n",
       "granddaughter-grandfather                        14\n",
       "granddaughter-grandmother                        20\n",
       "grandfather-grandson                             12\n",
       "grandmother-grandson                              7\n",
       "greatgranddaughter-greatgrandfather               2\n",
       "greatgrandfather-greatgrandson                    2\n",
       "mother-son                                      132\n",
       "sibling-sibling                                  81\n",
       "sister-sister                                    79\n",
       "spouse-spouse                                   107"
      ]
     },
     "execution_count": 124,
     "metadata": {},
     "output_type": "execute_result"
    }
   ],
   "source": [
    "clips_for_pair"
   ]
  },
  {
   "cell_type": "markdown",
   "metadata": {},
   "source": [
    "# How many subjects share a video?"
   ]
  },
  {
   "cell_type": "code",
   "execution_count": 73,
   "metadata": {},
   "outputs": [],
   "source": [
    "url_counts = pd.Series(\n",
    "    list(family_members.video.dropna().values) + \n",
    "    list(family_members.video2.dropna().values) + \n",
    "    list(family_members.video3.dropna().values),\n",
    ").value_counts()\n",
    "\n",
    "urls_shared_counts = pd.Series(url_counts.values).value_counts()"
   ]
  },
  {
   "cell_type": "code",
   "execution_count": 74,
   "metadata": {},
   "outputs": [
    {
     "data": {
      "text/html": [
       "<div>\n",
       "<style scoped>\n",
       "    .dataframe tbody tr th:only-of-type {\n",
       "        vertical-align: middle;\n",
       "    }\n",
       "\n",
       "    .dataframe tbody tr th {\n",
       "        vertical-align: top;\n",
       "    }\n",
       "\n",
       "    .dataframe thead th {\n",
       "        text-align: right;\n",
       "    }\n",
       "</style>\n",
       "<table border=\"1\" class=\"dataframe\">\n",
       "  <thead>\n",
       "    <tr style=\"text-align: right;\">\n",
       "      <th></th>\n",
       "      <th>num_videos</th>\n",
       "    </tr>\n",
       "    <tr>\n",
       "      <th>num_members</th>\n",
       "      <th></th>\n",
       "    </tr>\n",
       "  </thead>\n",
       "  <tbody>\n",
       "    <tr>\n",
       "      <th>1</th>\n",
       "      <td>568</td>\n",
       "    </tr>\n",
       "    <tr>\n",
       "      <th>2</th>\n",
       "      <td>19</td>\n",
       "    </tr>\n",
       "    <tr>\n",
       "      <th>3</th>\n",
       "      <td>5</td>\n",
       "    </tr>\n",
       "    <tr>\n",
       "      <th>4</th>\n",
       "      <td>1</td>\n",
       "    </tr>\n",
       "    <tr>\n",
       "      <th>7</th>\n",
       "      <td>1</td>\n",
       "    </tr>\n",
       "  </tbody>\n",
       "</table>\n",
       "</div>"
      ],
      "text/plain": [
       "             num_videos\n",
       "num_members            \n",
       "1                   568\n",
       "2                    19\n",
       "3                     5\n",
       "4                     1\n",
       "7                     1"
      ]
     },
     "execution_count": 74,
     "metadata": {},
     "output_type": "execute_result"
    }
   ],
   "source": [
    "url_shared_counts = urls_shared_counts.to_frame().sort_index()\n",
    "url_shared_counts.index.name = 'num_members'\n",
    "url_shared_counts = url_shared_counts.rename({0: 'num_videos'}, axis=1)\n",
    "url_shared_counts"
   ]
  },
  {
   "cell_type": "code",
   "execution_count": 75,
   "metadata": {},
   "outputs": [],
   "source": [
    "url_shared_counts.to_csv('num_videos_with_k_members.csv')"
   ]
  },
  {
   "cell_type": "markdown",
   "metadata": {},
   "source": [
    "# What are the ethnicities of the subjects?"
   ]
  },
  {
   "cell_type": "code",
   "execution_count": 76,
   "metadata": {},
   "outputs": [],
   "source": [
    "family_members_eth = family_members.dropna(how='any', subset=['ethnicity', 'video'])"
   ]
  },
  {
   "cell_type": "code",
   "execution_count": 77,
   "metadata": {},
   "outputs": [
    {
     "data": {
      "text/plain": [
       "white                345\n",
       "african               57\n",
       "jewish                19\n",
       "middle-east           14\n",
       "asian                 11\n",
       "white-middle-east     10\n",
       "white-jewish           8\n",
       "latino                 7\n",
       "white-african          4\n",
       "african-jewish         3\n",
       "asian-white            3\n",
       "white-latino           3\n",
       "indian                 2\n",
       "Name: ethnicity, dtype: int64"
      ]
     },
     "execution_count": 77,
     "metadata": {},
     "output_type": "execute_result"
    }
   ],
   "source": [
    "family_members_eth.ethnicity.value_counts()"
   ]
  },
  {
   "cell_type": "code",
   "execution_count": 82,
   "metadata": {},
   "outputs": [],
   "source": [
    "eth_counts = family_members_eth\\\n",
    ".ethnicity.value_counts()\\\n",
    ".to_frame().reset_index()\\\n",
    ".rename({\"index\": \"ethnicity\", \"ethnicity\": \"count\"}, axis=1)"
   ]
  },
  {
   "cell_type": "code",
   "execution_count": 83,
   "metadata": {},
   "outputs": [
    {
     "data": {
      "text/html": [
       "<div>\n",
       "<style scoped>\n",
       "    .dataframe tbody tr th:only-of-type {\n",
       "        vertical-align: middle;\n",
       "    }\n",
       "\n",
       "    .dataframe tbody tr th {\n",
       "        vertical-align: top;\n",
       "    }\n",
       "\n",
       "    .dataframe thead th {\n",
       "        text-align: right;\n",
       "    }\n",
       "</style>\n",
       "<table border=\"1\" class=\"dataframe\">\n",
       "  <thead>\n",
       "    <tr style=\"text-align: right;\">\n",
       "      <th></th>\n",
       "      <th>ethnicity</th>\n",
       "      <th>count</th>\n",
       "    </tr>\n",
       "  </thead>\n",
       "  <tbody>\n",
       "    <tr>\n",
       "      <th>0</th>\n",
       "      <td>white</td>\n",
       "      <td>345</td>\n",
       "    </tr>\n",
       "    <tr>\n",
       "      <th>1</th>\n",
       "      <td>african</td>\n",
       "      <td>57</td>\n",
       "    </tr>\n",
       "    <tr>\n",
       "      <th>2</th>\n",
       "      <td>jewish</td>\n",
       "      <td>19</td>\n",
       "    </tr>\n",
       "    <tr>\n",
       "      <th>3</th>\n",
       "      <td>middle-east</td>\n",
       "      <td>14</td>\n",
       "    </tr>\n",
       "    <tr>\n",
       "      <th>4</th>\n",
       "      <td>asian</td>\n",
       "      <td>11</td>\n",
       "    </tr>\n",
       "    <tr>\n",
       "      <th>5</th>\n",
       "      <td>white-middle-east</td>\n",
       "      <td>10</td>\n",
       "    </tr>\n",
       "    <tr>\n",
       "      <th>6</th>\n",
       "      <td>white-jewish</td>\n",
       "      <td>8</td>\n",
       "    </tr>\n",
       "    <tr>\n",
       "      <th>7</th>\n",
       "      <td>latino</td>\n",
       "      <td>7</td>\n",
       "    </tr>\n",
       "    <tr>\n",
       "      <th>8</th>\n",
       "      <td>white-african</td>\n",
       "      <td>4</td>\n",
       "    </tr>\n",
       "    <tr>\n",
       "      <th>9</th>\n",
       "      <td>african-jewish</td>\n",
       "      <td>3</td>\n",
       "    </tr>\n",
       "    <tr>\n",
       "      <th>10</th>\n",
       "      <td>asian-white</td>\n",
       "      <td>3</td>\n",
       "    </tr>\n",
       "    <tr>\n",
       "      <th>11</th>\n",
       "      <td>white-latino</td>\n",
       "      <td>3</td>\n",
       "    </tr>\n",
       "    <tr>\n",
       "      <th>12</th>\n",
       "      <td>indian</td>\n",
       "      <td>2</td>\n",
       "    </tr>\n",
       "  </tbody>\n",
       "</table>\n",
       "</div>"
      ],
      "text/plain": [
       "            ethnicity  count\n",
       "0               white    345\n",
       "1             african     57\n",
       "2              jewish     19\n",
       "3         middle-east     14\n",
       "4               asian     11\n",
       "5   white-middle-east     10\n",
       "6        white-jewish      8\n",
       "7              latino      7\n",
       "8       white-african      4\n",
       "9      african-jewish      3\n",
       "10        asian-white      3\n",
       "11       white-latino      3\n",
       "12             indian      2"
      ]
     },
     "execution_count": 83,
     "metadata": {},
     "output_type": "execute_result"
    }
   ],
   "source": [
    "eth_counts"
   ]
  },
  {
   "cell_type": "code",
   "execution_count": 84,
   "metadata": {},
   "outputs": [],
   "source": [
    "eth_counts.to_csv(\"./ethnicity_counts.csv\", index=False)"
   ]
  },
  {
   "cell_type": "code",
   "execution_count": null,
   "metadata": {},
   "outputs": [],
   "source": []
  }
 ],
 "metadata": {
  "kernelspec": {
   "display_name": "Python 3",
   "language": "python",
   "name": "python3"
  },
  "language_info": {
   "codemirror_mode": {
    "name": "ipython",
    "version": 3
   },
   "file_extension": ".py",
   "mimetype": "text/x-python",
   "name": "python",
   "nbconvert_exporter": "python",
   "pygments_lexer": "ipython3",
   "version": "3.7.6"
  },
  "pycharm": {
   "stem_cell": {
    "cell_type": "raw",
    "source": [
     "t#%%\n",
     "\n",
     "import pandas as pd\n",
     "import itertools\n",
     "from pathlib import Path\n",
     "from collections import Counter\n"
    ],
    "metadata": {
     "collapsed": false
    }
   }
  }
 },
 "nbformat": 4,
 "nbformat_minor": 4
}