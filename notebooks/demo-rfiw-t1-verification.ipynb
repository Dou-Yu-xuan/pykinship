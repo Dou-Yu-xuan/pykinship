{
 "cells": [
  {
   "cell_type": "markdown",
   "metadata": {},
   "source": [
    "# Demo for RFIW-2020 (Task 1): Kinship Verification\n",
    "## Overview\n",
    "This basic demo shows some tricks for using [pandas](https://pandas.pydata.org) in the Recognizing Families In \n",
    "the Wild ([RFIW](https://web.northeastern.edu/smilelab/rfiw2020/)) data challenge. Specifically, kinship \n",
    "verification ([Task-I](https://competitions.codalab.org/competitions/21843)).\n",
    "\n",
    "We will evaluate pairs and perform analysis on the features used for assessment. Specifically, we will\n",
    "- Load all features into dictionary.\n",
    "- Evaluate according to verification protocol.\n",
    "  - Calculate verification accuracies for the different relationship pair-types, along with the averaged accuracy.\n",
    "  - Generate a ROC curve.\n",
    "  - Visualize score distributions for KIN and NON-KIN for the different relationship types.\n"
   ]
  },
  {
   "cell_type": "markdown",
   "metadata": {},
   "source": [
    "## Preparing Data\n",
    "Features are assumed to  be extracted, stored as [pickles](https://docs.python.org/3/library/pickle.html), and \n",
    "saved with the same directory structure and naming scheme as the face images. Features are read in as a dictionary, with keys set as the relative file paths without file extensions (i.e., \\<FID\\>/\\<MID\\>/\\<faceID\\>). See [Prepare features](#Prepare-features)-- to change the i/o scheme modify the respective cell. For this, faces were encoded using ArcFace trained on MSCeleb in Pytorch (source, [Github](https://github.com/ronghuaiyang/arcface-pytorch)). However, any features can be plugged in.\n",
    "\n",
    "No fine-tuning or special tricks were applied to the features. The purpose here is to demonstrate how to complete the evaluation in a few easy steps. Also, we see how to easily generate visualizations that are both appealing and insightful."
   ]
  },
  {
   "cell_type": "markdown",
   "metadata": {},
   "source": [
    "### Setup environment and set style for plots"
   ]
  },
  {
   "cell_type": "code",
   "execution_count": 3,
   "metadata": {
    "collapsed": false,
    "jupyter": {
     "outputs_hidden": false
    },
    "pycharm": {
     "name": "#%%\n"
    }
   },
   "outputs": [],
   "source": [
    "import numpy as np\n",
    "import pandas as pd\n",
    "import seaborn as sns\n",
    "\n",
    "import matplotlib.pyplot as plt\n",
    "from sklearn.metrics import roc_auc_score, roc_curve"
   ]
  },
  {
   "cell_type": "code",
   "execution_count": 4,
   "metadata": {
    "collapsed": false,
    "jupyter": {
     "outputs_hidden": false
    },
    "pycharm": {
     "name": "#%%\n"
    }
   },
   "outputs": [],
   "source": [
    "%matplotlib inline\n",
    "# set styles for figures\n",
    "sns.set(style=\"white\", rc={\"axes.facecolor\": (0, 0, 0, 0)})\n",
    "sns.set_style('whitegrid', {'font.family': 'serif',\n",
    "                            'font.serif' : 'Times New Roman', 'fontsize': 18})"
   ]
  },
  {
   "cell_type": "markdown",
   "metadata": {},
   "source": [
    "### Prepare features"
   ]
  },
  {
   "cell_type": "code",
   "execution_count": 5,
   "metadata": {
    "collapsed": false,
    "jupyter": {
     "outputs_hidden": false
    },
    "pycharm": {
     "name": "#%%\n"
    }
   },
   "outputs": [],
   "source": [
    "# here set the baths to pairs list, along with directory containing features\n",
    "dir_data = '../rfiw2020-data/verification/'\n",
    "dir_val = dir_data + 'val/'\n",
    "dir_features = dir_val.replace('/val/', '/val/val-features/')"
   ]
  },
  {
   "cell_type": "markdown",
   "metadata": {},
   "source": [
    "Load pickle files and determine relationship types"
   ]
  },
  {
   "cell_type": "code",
   "execution_count": 6,
   "metadata": {
    "collapsed": false,
    "jupyter": {
     "outputs_hidden": false
    },
    "pycharm": {
     "name": "#%%\n"
    }
   },
   "outputs": [
    {
     "ename": "FileNotFoundError",
     "evalue": "[Errno 2] No such file or directory: '../rfiw2020-data/verification/val/val-all-face-pairs.pkl'",
     "output_type": "error",
     "traceback": [
      "\u001b[0;31m---------------------------------------------------------------------------\u001b[0m",
      "\u001b[0;31mFileNotFoundError\u001b[0m                         Traceback (most recent call last)",
      "\u001b[0;32m<ipython-input-6-c357263bec4c>\u001b[0m in \u001b[0;36m<module>\u001b[0;34m\u001b[0m\n\u001b[1;32m      1\u001b[0m \u001b[0;31m# load pairs as DataFrame (from PKL file)\u001b[0m\u001b[0;34m\u001b[0m\u001b[0;34m\u001b[0m\u001b[0;34m\u001b[0m\u001b[0m\n\u001b[0;32m----> 2\u001b[0;31m \u001b[0mdf_pairlist\u001b[0m \u001b[0;34m=\u001b[0m \u001b[0mpd\u001b[0m\u001b[0;34m.\u001b[0m\u001b[0mread_pickle\u001b[0m\u001b[0;34m(\u001b[0m\u001b[0mdir_val\u001b[0m \u001b[0;34m+\u001b[0m \u001b[0;34m'val-all-face-pairs.pkl'\u001b[0m\u001b[0;34m)\u001b[0m\u001b[0;34m\u001b[0m\u001b[0;34m\u001b[0m\u001b[0m\n\u001b[0m\u001b[1;32m      3\u001b[0m \u001b[0mdf_pairlist\u001b[0m\u001b[0;34m.\u001b[0m\u001b[0mptype\u001b[0m \u001b[0;34m=\u001b[0m\u001b[0mdf_pairlist\u001b[0m\u001b[0;34m.\u001b[0m\u001b[0mptype\u001b[0m\u001b[0;34m.\u001b[0m\u001b[0mstr\u001b[0m\u001b[0;34m.\u001b[0m\u001b[0mupper\u001b[0m\u001b[0;34m(\u001b[0m\u001b[0;34m)\u001b[0m   \u001b[0;31m# set tags to uppercase for formatting later\u001b[0m\u001b[0;34m\u001b[0m\u001b[0;34m\u001b[0m\u001b[0m\n\u001b[1;32m      4\u001b[0m \u001b[0;34m\u001b[0m\u001b[0m\n\u001b[1;32m      5\u001b[0m \u001b[0;31m# get all unique relationship types in DF\u001b[0m\u001b[0;34m\u001b[0m\u001b[0;34m\u001b[0m\u001b[0;34m\u001b[0m\u001b[0m\n",
      "\u001b[0;32m~/miniconda3/envs/pykin/lib/python3.8/site-packages/pandas/io/pickle.py\u001b[0m in \u001b[0;36mread_pickle\u001b[0;34m(path, compression)\u001b[0m\n\u001b[1;32m    143\u001b[0m     \"\"\"\n\u001b[1;32m    144\u001b[0m     \u001b[0mpath\u001b[0m \u001b[0;34m=\u001b[0m \u001b[0m_stringify_path\u001b[0m\u001b[0;34m(\u001b[0m\u001b[0mpath\u001b[0m\u001b[0;34m)\u001b[0m\u001b[0;34m\u001b[0m\u001b[0;34m\u001b[0m\u001b[0m\n\u001b[0;32m--> 145\u001b[0;31m     \u001b[0mf\u001b[0m\u001b[0;34m,\u001b[0m \u001b[0mfh\u001b[0m \u001b[0;34m=\u001b[0m \u001b[0m_get_handle\u001b[0m\u001b[0;34m(\u001b[0m\u001b[0mpath\u001b[0m\u001b[0;34m,\u001b[0m \u001b[0;34m\"rb\"\u001b[0m\u001b[0;34m,\u001b[0m \u001b[0mcompression\u001b[0m\u001b[0;34m=\u001b[0m\u001b[0mcompression\u001b[0m\u001b[0;34m,\u001b[0m \u001b[0mis_text\u001b[0m\u001b[0;34m=\u001b[0m\u001b[0;32mFalse\u001b[0m\u001b[0;34m)\u001b[0m\u001b[0;34m\u001b[0m\u001b[0;34m\u001b[0m\u001b[0m\n\u001b[0m\u001b[1;32m    146\u001b[0m \u001b[0;34m\u001b[0m\u001b[0m\n\u001b[1;32m    147\u001b[0m     \u001b[0;31m# 1) try standard libary Pickle\u001b[0m\u001b[0;34m\u001b[0m\u001b[0;34m\u001b[0m\u001b[0;34m\u001b[0m\u001b[0m\n",
      "\u001b[0;32m~/miniconda3/envs/pykin/lib/python3.8/site-packages/pandas/io/common.py\u001b[0m in \u001b[0;36m_get_handle\u001b[0;34m(path_or_buf, mode, encoding, compression, memory_map, is_text)\u001b[0m\n\u001b[1;32m    403\u001b[0m         \u001b[0;32melse\u001b[0m\u001b[0;34m:\u001b[0m\u001b[0;34m\u001b[0m\u001b[0;34m\u001b[0m\u001b[0m\n\u001b[1;32m    404\u001b[0m             \u001b[0;31m# Binary mode\u001b[0m\u001b[0;34m\u001b[0m\u001b[0;34m\u001b[0m\u001b[0;34m\u001b[0m\u001b[0m\n\u001b[0;32m--> 405\u001b[0;31m             \u001b[0mf\u001b[0m \u001b[0;34m=\u001b[0m \u001b[0mopen\u001b[0m\u001b[0;34m(\u001b[0m\u001b[0mpath_or_buf\u001b[0m\u001b[0;34m,\u001b[0m \u001b[0mmode\u001b[0m\u001b[0;34m)\u001b[0m\u001b[0;34m\u001b[0m\u001b[0;34m\u001b[0m\u001b[0m\n\u001b[0m\u001b[1;32m    406\u001b[0m         \u001b[0mhandles\u001b[0m\u001b[0;34m.\u001b[0m\u001b[0mappend\u001b[0m\u001b[0;34m(\u001b[0m\u001b[0mf\u001b[0m\u001b[0;34m)\u001b[0m\u001b[0;34m\u001b[0m\u001b[0;34m\u001b[0m\u001b[0m\n\u001b[1;32m    407\u001b[0m \u001b[0;34m\u001b[0m\u001b[0m\n",
      "\u001b[0;31mFileNotFoundError\u001b[0m: [Errno 2] No such file or directory: '../rfiw2020-data/verification/val/val-all-face-pairs.pkl'"
     ]
    }
   ],
   "source": [
    "# load pairs as DataFrame (from PKL file)\n",
    "df_pairlist = pd.read_pickle(dir_val + 'val-all-face-pairs.pkl')\n",
    "df_pairlist.ptype =df_pairlist.ptype.str.upper()   # set tags to uppercase for formatting later  \n",
    "\n",
    "# get all unique relationship types in DF\n",
    "relationship_types = df_pairlist.ptype.unique()\n",
    "\n",
    "print('Processing {} pairs of {} relationship types'.format(len(df_pairlist), len(relationship_types)))\n",
    "print(relationship_types)"
   ]
  },
  {
   "cell_type": "markdown",
   "metadata": {},
   "source": [
    "### Build a list of all images in pairs list"
   ]
  },
  {
   "cell_type": "code",
   "execution_count": null,
   "metadata": {
    "collapsed": false,
    "jupyter": {
     "outputs_hidden": false
    },
    "pycharm": {
     "name": "#%% Get all unique faces\n"
    }
   },
   "outputs": [],
   "source": [
    "li_images = list(np.unique(df_pairlist.p1.to_list() + df_pairlist.p2.to_list()))"
   ]
  },
  {
   "cell_type": "markdown",
   "metadata": {},
   "source": [
    "### load all features in LUT (ie dictionary)"
   ]
  },
  {
   "cell_type": "code",
   "execution_count": null,
   "metadata": {
    "collapsed": false,
    "jupyter": {
     "outputs_hidden": false
    },
    "pycharm": {
     "name": "#%%\n"
    }
   },
   "outputs": [],
   "source": [
    "features = {f: pd.read_pickle(dir_features + f.replace('.jpg', '.pkl')) for f in\n",
    "            li_images}"
   ]
  },
  {
   "cell_type": "markdown",
   "metadata": {},
   "source": [
    "### Calculate cosine score for each pair"
   ]
  },
  {
   "cell_type": "code",
   "execution_count": null,
   "metadata": {
    "collapsed": false,
    "jupyter": {
     "outputs_hidden": false
    },
    "pycharm": {
     "name": "#%%\n"
    }
   },
   "outputs": [],
   "source": [
    "# score all feature pairs, because L2 norm applied on features dot is same as cosine sim\n",
    "df_pairlist['score'] = df_pairlist.apply(\n",
    "    lambda x: np.dot(features[x.p1], features[x.p2].T), axis=1)"
   ]
  },
  {
   "cell_type": "code",
   "execution_count": null,
   "metadata": {
    "collapsed": false,
    "jupyter": {
     "outputs_hidden": false
    },
    "pycharm": {
     "name": "#%% Sample pair list to make sure data is as expected\n"
    }
   },
   "outputs": [],
   "source": [
    "df_pairlist.head()"
   ]
  },
  {
   "cell_type": "code",
   "execution_count": null,
   "metadata": {
    "collapsed": false,
    "jupyter": {
     "outputs_hidden": false
    },
    "pycharm": {
     "name": "#%%\n"
    }
   },
   "outputs": [],
   "source": [
    "df_pairlist.tail()"
   ]
  },
  {
   "cell_type": "markdown",
   "metadata": {},
   "source": [
    "The top of the table contains the positive pairs, while the bottom is the negatives. See the differences in scores. As we would hope, the KIN pairs seem to score higher (i.e., be more similar) than that of the NON-KIN."
   ]
  },
  {
   "cell_type": "markdown",
   "metadata": {},
   "source": [
    "# Measure Performance"
   ]
  },
  {
   "cell_type": "markdown",
   "metadata": {},
   "source": [
    "In most cases, the labels get loaded from a separate file. However, here, we infer the tag as ‘KIN’ or ‘NON-KIN’ depending on whether or not the family ID (FID) of subjects 1 and 2."
   ]
  },
  {
   "cell_type": "code",
   "execution_count": null,
   "metadata": {
    "collapsed": false,
    "jupyter": {
     "outputs_hidden": false
    },
    "pycharm": {
     "name": "#%% Add additional fields to DF\n"
    }
   },
   "outputs": [],
   "source": [
    "df_pairlist['label'] = (df_pairlist.fid1 == df_pairlist.fid2).astype(np.uint)\n",
    "# 'tags' column in for formatting legend in plots\n",
    "df_pairlist['tags'] = 'KIN'\n",
    "df_pairlist.loc[df_pairlist.label==0, 'tags'] = 'NON-KIN'"
   ]
  },
  {
   "cell_type": "markdown",
   "metadata": {},
   "source": [
    "### Generate ROC curve"
   ]
  },
  {
   "cell_type": "code",
   "execution_count": null,
   "metadata": {
    "collapsed": false,
    "jupyter": {
     "outputs_hidden": false
    },
    "pycharm": {
     "name": "#%% Genderate ROC stats and AUC\n"
    }
   },
   "outputs": [],
   "source": [
    "fpr, tpr, threshold = roc_curve(df_pairlist.label.values,\n",
    "                                df_pairlist.score.values)\n",
    "auc = roc_auc_score(df_pairlist.label.values, df_pairlist.score.values)"
   ]
  },
  {
   "cell_type": "code",
   "execution_count": null,
   "metadata": {
    "collapsed": false,
    "jupyter": {
     "outputs_hidden": false
    },
    "pycharm": {
     "name": "#%% Plot ROC against random\n"
    }
   },
   "outputs": [],
   "source": [
    "plt.figure()\n",
    "plt.plot(fpr, tpr, color='darkorange', lw=2, label='ROC (AUC: %0.2f)' % auc)\n",
    "plt.plot([0, 1], [0, 1], color='navy', lw=2, linestyle='--', label='Random (AUC: 0.50)')\n",
    "plt.xlim([0.0, 1.0])\n",
    "plt.ylim([0.0, 1.05])\n",
    "plt.xlabel('False Positive Rate')\n",
    "plt.ylabel('True Positive Rate')\n",
    "plt.title('ROC All Types Averaged')\n",
    "plt.legend(loc=\"best\")\n",
    "plt.show()"
   ]
  },
  {
   "cell_type": "code",
   "execution_count": null,
   "metadata": {
    "collapsed": false,
    "jupyter": {
     "outputs_hidden": false
    },
    "pycharm": {
     "name": "#%%\n"
    }
   },
   "outputs": [],
   "source": [
    "\n",
    "f, axs = plt.subplots(2, int(np.ceil(len(relationship_types)/2)),figsize=(15,5), sharex=True, sharey=True)\n",
    "sns.despine(left=True)\n",
    "i = [[0,0],[0,1],[0,2],[0,3],[0,4],[1,0],[0,5],[1,1],[1,2],[1,3],[1,4],[1,5]]\n",
    "for j, att in enumerate(relationship_types):\n",
    "    df_cur = df_pairlist.loc[df_pairlist.ptype == att,['score', 'label']]\n",
    "    fpr, tpr, threshold = roc_curve(df_cur.label.values, df_cur.score.values)\n",
    "    auc = roc_auc_score(df_cur.label.values, df_cur.score.values)\n",
    "    axs[i[j][0],i[j][1]].plot([0, 1], [0, 1], color='black', lw=1, linestyle='--')\n",
    "    axs[i[j][0],i[j][1]].plot(fpr, tpr, lw=2, label='(AUC: {:.2})'.format(auc))\n",
    "    axs[i[j][0],i[j][1]].set_xlim([0.0, 1.0])\n",
    "    axs[i[j][0],i[j][1]].set_ylim([0.0, 1.05])\n",
    "    axs[i[j][0],i[j][1]].set_title(f\"{att}\")\n",
    "axs[-1,-1].set_axis_off()"
   ]
  },
  {
   "cell_type": "markdown",
   "metadata": {},
   "source": [
    "The grandparent-grandchildren do not separate well provided the current settings. Let us do some analysis."
   ]
  },
  {
   "cell_type": "markdown",
   "metadata": {},
   "source": [
    "### Feature Analysis"
   ]
  },
  {
   "cell_type": "markdown",
   "metadata": {},
   "source": [
    "Next, plot signal detection models (SDM) for each relationship type. From this, we view the distribution of scores as a function of the label (i.e., KIN vs. NON-KIN).\n"
   ]
  },
  {
   "cell_type": "code",
   "execution_count": null,
   "metadata": {
    "collapsed": false,
    "jupyter": {
     "outputs_hidden": false
    },
    "pycharm": {
     "name": "#%%\n"
    }
   },
   "outputs": [],
   "source": [
    "df_pairlist.label=df_pairlist.label.astype(int)\n",
    "\n",
    "sns.despine(left=True)\n",
    "\n",
    "f, axs = plt.subplots(2, int(np.ceil(len(relationship_types)/2)),figsize=(15,7), sharex=True, sharey=True)\n",
    "i = [[0,0],[0,1],[0,2],[0,3],[0,4],[1,0],[0,5],[1,1],[1,2],[1,3],[1,4],[1,5]]\n",
    "for j, att in enumerate(relationship_types):\n",
    "    df_cur = df_pairlist.loc[df_pairlist.ptype == att,['score', 'label']]\n",
    "    sns.distplot(df_cur.loc[df_cur.label==1,'score'],hist=True, label='True',ax=axs[i[j][0],i[j][1]],color='g')\n",
    "    sns.distplot(df_cur.loc[df_cur.label==0,'score'], hist=True,label='False',ax=axs[i[j][0],i[j][1]],color='r')\n",
    "    axs[i[j][0],i[j][1]].set_title(att)\n",
    "    axs[i[j][0],i[j][1]].set_xlabel('')\n",
    "axs[-1,-1].set_axis_off()"
   ]
  },
  {
   "cell_type": "markdown",
   "metadata": {},
   "source": [
    "Similar to SDM, but let’s look at violin plots as means of another visualization of two-class separability."
   ]
  },
  {
   "cell_type": "code",
   "execution_count": null,
   "metadata": {
    "collapsed": false,
    "jupyter": {
     "outputs_hidden": false
    },
    "pycharm": {
     "name": "#%%\n"
    }
   },
   "outputs": [],
   "source": [
    "plt.close('all')\n",
    "fig = plt.figure(figsize=(15,10))\n",
    "ax = fig.gca()\n",
    "sns.despine(left=True)\n",
    "\n",
    "sns.violinplot(x='ptype',y='score',data=df_pairlist,hue='tags', ax=ax, linewidth=2.5, width=0.75, palette=\"Pastel1\",\n",
    "               order=[ \"BB\", \"SS\", \"SIBS\", 'FD', 'FS', \"MD\", \"MS\",'GFGD','GFGS','GMGD', 'GMGS'])\n",
    "ax.spines['right'].set_visible(False)\n",
    "ax.spines['top'].set_visible(False)\n",
    "ax.set_xlabel('Relationship Type', fontsize=18)\n",
    "\n",
    "ax.set_ylabel('Similarity Score', fontsize=18)\n",
    "# Calculate number of obs per group & median to position labels\n",
    "medians = df_pairlist.groupby(['ptype'])['score'].min().values\n",
    "nobs = df_pairlist['ptype'].value_counts().values\n",
    "nobs = [str(f'{x:,}') for x in nobs.tolist()]\n",
    "nobs = [\"n: \" + i for i in nobs]\n",
    " \n",
    "# Add it to the plot\n",
    "pos = range(len(nobs))\n",
    "for tick,label in zip(pos,ax.get_xticklabels()):\n",
    "    value = pos[tick]\n",
    "    ax.text(value, -0.45, nobs[tick], horizontalalignment='center', fontsize=18, size='small', color='k', weight='semibold')\n",
    "    # ax.text(value, medians[tick] - medians[tick]*0.15, nobs[tick], horizontalalignment='center', size='x-small', color='k', weight='semibold')\n",
    "\n",
    "plt.legend(loc=\"best\", fontsize=18)"
   ]
  }
 ],
 "metadata": {
  "kernelspec": {
   "display_name": "Python 3",
   "language": "python",
   "name": "python3"
  },
  "language_info": {
   "codemirror_mode": {
    "name": "ipython",
    "version": 3
   },
   "file_extension": ".py",
   "mimetype": "text/x-python",
   "name": "python",
   "nbconvert_exporter": "python",
   "pygments_lexer": "ipython3",
   "version": "3.8.1"
  },
  "pycharm": {
   "stem_cell": {
    "cell_type": "raw",
    "metadata": {
     "collapsed": false
    },
    "source": []
   }
  }
 },
 "nbformat": 4,
 "nbformat_minor": 4
}
