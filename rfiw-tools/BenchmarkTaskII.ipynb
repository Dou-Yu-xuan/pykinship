{
 "cells": [
  {
   "cell_type": "code",
   "execution_count": 1,
   "metadata": {
    "ExecuteTime": {
     "end_time": "2020-02-11T19:39:22.648865Z",
     "start_time": "2020-02-11T19:39:21.573860Z"
    }
   },
   "outputs": [],
   "source": [
    "import pandas as pd\n",
    "from pathlib import Path\n",
    "import numpy as np\n",
    "from typing import Iterable\n",
    "from tqdm.auto import tqdm\n",
    "import pickle\n",
    "from scipy.spatial import distance\n",
    "from sklearn.metrics import accuracy_score\n",
    "from sklearn.metrics import roc_curve"
   ]
  },
  {
   "cell_type": "code",
   "execution_count": 3,
   "metadata": {
    "ExecuteTime": {
     "end_time": "2020-02-11T19:41:02.919919Z",
     "start_time": "2020-02-11T19:41:02.896809Z"
    }
   },
   "outputs": [],
   "source": [
    "FIW_FEATURES = Path(\"/Users/zkhan/Dropbox/rfiw2020-data/FIDs-features/\")\n",
    "validation_csv = pd.read_csv(\"/Users/zkhan/Dropbox/rfiw2020-data/trisubject_verification.v2/val/val_triples_competition_with_label.csv\")\n",
    "test_csv = pd.read_csv(\"/Users/zkhan/Dropbox/rfiw2020-data/trisubject_verification.v2/test/test_triples_reference.csv\")"
   ]
  },
  {
   "cell_type": "code",
   "execution_count": 4,
   "metadata": {
    "ExecuteTime": {
     "end_time": "2020-02-11T19:41:12.588041Z",
     "start_time": "2020-02-11T19:41:12.582413Z"
    }
   },
   "outputs": [],
   "source": [
    "def read_features_from_iterable_of_pictures(iterable: Iterable[str], feature_dir: Path, feature_len: int = 512):\n",
    "    \"\"\"\n",
    "    For each picture in the iterable, read the corresponding feature\n",
    "    file from a directory of feature files.\n",
    "    \n",
    "    Parameters\n",
    "    ------------\n",
    "    iterable:\n",
    "        An iterable of face image names.\n",
    "    feature_dir:\n",
    "        A Path to a directory containing features of faces, organized in\n",
    "        the same way as FIW.\n",
    "    feature_len:\n",
    "        The size of the feature vector.\n",
    "        \n",
    "    Returns\n",
    "    ------------\n",
    "    A mxn matrix, where m is the number of images in the iterable, and n is\n",
    "    the feature len.\n",
    "    \"\"\"\n",
    "    dims = (len(iterable), feature_len)\n",
    "    features = np.zeros(dims)\n",
    "    for idx, img in enumerate(tqdm(iterable)):\n",
    "        feature_file_name = (FIW_FEATURES / img).with_suffix(\".pkl\")\n",
    "        with open(feature_file_name, \"rb\") as f:\n",
    "            feature_vector = pickle.load(f)\n",
    "        features[idx] = feature_vector\n",
    "    return features"
   ]
  },
  {
   "cell_type": "markdown",
   "metadata": {},
   "source": [
    "# Finding the best thresholds\n",
    "We will use the mean of the cosine sim between (father, child) and (mother, child), then threshold it."
   ]
  },
  {
   "cell_type": "code",
   "execution_count": 6,
   "metadata": {
    "ExecuteTime": {
     "end_time": "2020-02-11T19:44:33.962155Z",
     "start_time": "2020-02-11T19:44:31.962940Z"
    }
   },
   "outputs": [
    {
     "data": {
      "application/vnd.jupyter.widget-view+json": {
       "model_id": "5ef4e033b12c4c8e9a13dca75fe10b47",
       "version_major": 2,
       "version_minor": 0
      },
      "text/plain": [
       "HBox(children=(FloatProgress(value=0.0, max=3568.0), HTML(value='')))"
      ]
     },
     "metadata": {},
     "output_type": "display_data"
    },
    {
     "name": "stdout",
     "output_type": "stream",
     "text": [
      "\n"
     ]
    },
    {
     "data": {
      "application/vnd.jupyter.widget-view+json": {
       "model_id": "3231bc5a1ea54e65a21f57477ea8453d",
       "version_major": 2,
       "version_minor": 0
      },
      "text/plain": [
       "HBox(children=(FloatProgress(value=0.0, max=3568.0), HTML(value='')))"
      ]
     },
     "metadata": {},
     "output_type": "display_data"
    },
    {
     "name": "stdout",
     "output_type": "stream",
     "text": [
      "\n"
     ]
    },
    {
     "data": {
      "application/vnd.jupyter.widget-view+json": {
       "model_id": "1874113a63084730902453384aba1e5c",
       "version_major": 2,
       "version_minor": 0
      },
      "text/plain": [
       "HBox(children=(FloatProgress(value=0.0, max=3568.0), HTML(value='')))"
      ]
     },
     "metadata": {},
     "output_type": "display_data"
    },
    {
     "name": "stdout",
     "output_type": "stream",
     "text": [
      "\n"
     ]
    }
   ],
   "source": [
    "val_father_features = read_features_from_iterable_of_pictures(validation_csv.F.values, FIW_FEATURES)\n",
    "val_mother_features = read_features_from_iterable_of_pictures(validation_csv.M.values, FIW_FEATURES)\n",
    "val_child_features = read_features_from_iterable_of_pictures(validation_csv.C.values, FIW_FEATURES)"
   ]
  },
  {
   "cell_type": "code",
   "execution_count": 15,
   "metadata": {
    "ExecuteTime": {
     "end_time": "2020-02-11T19:50:40.655002Z",
     "start_time": "2020-02-11T19:50:40.649892Z"
    }
   },
   "outputs": [],
   "source": [
    "def combine_fmc_features(father_feats, mother_feats, child_feats):\n",
    "    fc_cosine_sim = np.array([distance.cosine(u, v) for u, v in zip(father_feats, child_feats)]).reshape(-1, 1)\n",
    "    mc_cosine_sim = np.array([distance.cosine(u, v) for u, v in zip(mother_feats, child_feats)]).reshape(-1, 1)\n",
    "    fc_mc_cosine_sim = np.hstack((fc_cosine_sim, mc_cosine_sim))\n",
    "    return np.mean(fc_mc_cosine_sim, axis=1)"
   ]
  },
  {
   "cell_type": "code",
   "execution_count": 17,
   "metadata": {
    "ExecuteTime": {
     "end_time": "2020-02-11T19:51:12.248300Z",
     "start_time": "2020-02-11T19:51:11.995755Z"
    }
   },
   "outputs": [],
   "source": [
    "val_scores = combine_fmc_features(val_father_features, val_mother_features, val_child_features)\n",
    "val_labels = validation_csv.label.values.copy()"
   ]
  },
  {
   "cell_type": "code",
   "execution_count": 20,
   "metadata": {
    "ExecuteTime": {
     "end_time": "2020-02-11T19:52:15.240911Z",
     "start_time": "2020-02-11T19:52:15.176350Z"
    }
   },
   "outputs": [
    {
     "data": {
      "application/vnd.jupyter.widget-view+json": {
       "model_id": "6beafb5a0f854d9eb99c9526fa4840b1",
       "version_major": 2,
       "version_minor": 0
      },
      "text/plain": [
       "HBox(children=(FloatProgress(value=0.0, max=80.0), HTML(value='')))"
      ]
     },
     "metadata": {},
     "output_type": "display_data"
    },
    {
     "name": "stdout",
     "output_type": "stream",
     "text": [
      "\n",
      "Max accuracy: 0.5\n",
      "Max accuracy threshold: 0.6125000000000014\n"
     ]
    }
   ],
   "source": [
    "thresholds = np.arange(1, 0, step=-0.0125)\n",
    "accuracy_scores = []\n",
    "for thresh in tqdm(thresholds):\n",
    "    accuracy_scores.append(accuracy_score(val_labels, val_scores > thresh))\n",
    "\n",
    "accuracies = np.array(accuracy_scores)\n",
    "max_accuracy = accuracies.max() \n",
    "max_accuracy_threshold =  thresholds[accuracies.argmax()]\n",
    "print(f\"Max accuracy: {max_accuracy}\")\n",
    "print(f\"Max accuracy threshold: {max_accuracy_threshold}\")"
   ]
  },
  {
   "cell_type": "markdown",
   "metadata": {
    "ExecuteTime": {
     "end_time": "2020-02-11T19:51:38.856496Z",
     "start_time": "2020-02-11T19:51:38.852906Z"
    }
   },
   "source": [
    "The max accuracy is 0.5, and the threshold is 0.6125."
   ]
  },
  {
   "cell_type": "markdown",
   "metadata": {},
   "source": [
    "# Evaluation on test set"
   ]
  },
  {
   "cell_type": "code",
   "execution_count": 21,
   "metadata": {
    "ExecuteTime": {
     "end_time": "2020-02-11T19:54:28.075234Z",
     "start_time": "2020-02-11T19:54:25.409566Z"
    }
   },
   "outputs": [
    {
     "data": {
      "application/vnd.jupyter.widget-view+json": {
       "model_id": "716e71b996e945cf855f9b704037725a",
       "version_major": 2,
       "version_minor": 0
      },
      "text/plain": [
       "HBox(children=(FloatProgress(value=0.0, max=3470.0), HTML(value='')))"
      ]
     },
     "metadata": {},
     "output_type": "display_data"
    },
    {
     "name": "stdout",
     "output_type": "stream",
     "text": [
      "\n"
     ]
    },
    {
     "data": {
      "application/vnd.jupyter.widget-view+json": {
       "model_id": "4e5f6abf57724b28a9b1c762354b3a24",
       "version_major": 2,
       "version_minor": 0
      },
      "text/plain": [
       "HBox(children=(FloatProgress(value=0.0, max=3470.0), HTML(value='')))"
      ]
     },
     "metadata": {},
     "output_type": "display_data"
    },
    {
     "name": "stdout",
     "output_type": "stream",
     "text": [
      "\n"
     ]
    },
    {
     "data": {
      "application/vnd.jupyter.widget-view+json": {
       "model_id": "49edd79de45a46b79cc3b5e5dbd5fd5b",
       "version_major": 2,
       "version_minor": 0
      },
      "text/plain": [
       "HBox(children=(FloatProgress(value=0.0, max=3470.0), HTML(value='')))"
      ]
     },
     "metadata": {},
     "output_type": "display_data"
    },
    {
     "name": "stdout",
     "output_type": "stream",
     "text": [
      "\n"
     ]
    }
   ],
   "source": [
    "test_father_features = read_features_from_iterable_of_pictures(test_csv.father_img.values, FIW_FEATURES)\n",
    "test_mother_features = read_features_from_iterable_of_pictures(test_csv.mother_img.values, FIW_FEATURES)\n",
    "test_child_features = read_features_from_iterable_of_pictures(test_csv.child_img.values, FIW_FEATURES)"
   ]
  },
  {
   "cell_type": "code",
   "execution_count": 23,
   "metadata": {
    "ExecuteTime": {
     "end_time": "2020-02-11T19:55:45.916041Z",
     "start_time": "2020-02-11T19:55:45.666258Z"
    }
   },
   "outputs": [],
   "source": [
    "test_scores =  combine_fmc_features(test_father_features, test_mother_features, test_child_features)\n",
    "test_labels = test_csv.label.values.copy()"
   ]
  },
  {
   "cell_type": "code",
   "execution_count": 31,
   "metadata": {
    "ExecuteTime": {
     "end_time": "2020-02-11T20:01:55.744101Z",
     "start_time": "2020-02-11T20:01:55.738649Z"
    }
   },
   "outputs": [],
   "source": [
    "test_csv[\"tag\"] = test_csv[\"child_gender\"].apply(lambda r: \"FM-D\" if r == \"f\" else \"FM-S\")\n",
    "test_csv[\"pred\"] = test_scores > max_accuracy_threshold"
   ]
  },
  {
   "cell_type": "code",
   "execution_count": 33,
   "metadata": {
    "ExecuteTime": {
     "end_time": "2020-02-11T20:03:52.262026Z",
     "start_time": "2020-02-11T20:03:52.248161Z"
    }
   },
   "outputs": [],
   "source": [
    "reltypes = test_csv.tag.unique()\n",
    "accuracy_df = pd.DataFrame(columns=reltypes, dtype=float)\n",
    "for rel in reltypes:\n",
    "    y_true = test_csv[test_csv.tag == rel][\"label\"].values\n",
    "    y_pred = test_csv[test_csv.tag == rel ][\"pred\"].values\n",
    "    accuracy_df.loc[0, rel] = accuracy_score(y_true, y_pred)"
   ]
  },
  {
   "cell_type": "code",
   "execution_count": 36,
   "metadata": {
    "ExecuteTime": {
     "end_time": "2020-02-11T20:04:04.122470Z",
     "start_time": "2020-02-11T20:04:04.114567Z"
    }
   },
   "outputs": [
    {
     "data": {
      "text/html": [
       "<div>\n",
       "<style scoped>\n",
       "    .dataframe tbody tr th:only-of-type {\n",
       "        vertical-align: middle;\n",
       "    }\n",
       "\n",
       "    .dataframe tbody tr th {\n",
       "        vertical-align: top;\n",
       "    }\n",
       "\n",
       "    .dataframe thead th {\n",
       "        text-align: right;\n",
       "    }\n",
       "</style>\n",
       "<table border=\"1\" class=\"dataframe\">\n",
       "  <thead>\n",
       "    <tr style=\"text-align: right;\">\n",
       "      <th></th>\n",
       "      <th>FM-D</th>\n",
       "      <th>FM-S</th>\n",
       "    </tr>\n",
       "  </thead>\n",
       "  <tbody>\n",
       "    <tr>\n",
       "      <th>0</th>\n",
       "      <td>0.51</td>\n",
       "      <td>0.491</td>\n",
       "    </tr>\n",
       "  </tbody>\n",
       "</table>\n",
       "</div>"
      ],
      "text/plain": [
       "   FM-D   FM-S\n",
       "0  0.51  0.491"
      ]
     },
     "execution_count": 36,
     "metadata": {},
     "output_type": "execute_result"
    }
   ],
   "source": [
    "accuracy_df.round(3)"
   ]
  },
  {
   "cell_type": "code",
   "execution_count": null,
   "metadata": {},
   "outputs": [],
   "source": []
  }
 ],
 "metadata": {
  "kernelspec": {
   "display_name": "Python 3.7.5 64-bit ('3.7.5': pyenv)",
   "language": "python",
   "name": "python37564bit375pyenv8e19e292c972491499da4846beb4f99b"
  },
  "language_info": {
   "codemirror_mode": {
    "name": "ipython",
    "version": 3
   },
   "file_extension": ".py",
   "mimetype": "text/x-python",
   "name": "python",
   "nbconvert_exporter": "python",
   "pygments_lexer": "ipython3",
   "version": "3.7.5"
  }
 },
 "nbformat": 4,
 "nbformat_minor": 4
}
