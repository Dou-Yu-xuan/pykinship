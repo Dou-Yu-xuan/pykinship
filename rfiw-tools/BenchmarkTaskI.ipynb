{
 "cells": [
  {
   "cell_type": "code",
   "execution_count": 13,
   "metadata": {
    "ExecuteTime": {
     "end_time": "2020-02-11T18:34:00.716075Z",
     "start_time": "2020-02-11T18:34:00.712365Z"
    }
   },
   "outputs": [],
   "source": [
    "import pandas as pd\n",
    "from pathlib import Path\n",
    "import numpy as np\n",
    "from typing import Iterable\n",
    "from tqdm.auto import tqdm\n",
    "import pickle\n",
    "from scipy.spatial import distance\n",
    "from sklearn.metrics import accuracy_score\n",
    "from sklearn.metrics import roc_curve"
   ]
  },
  {
   "cell_type": "code",
   "execution_count": 2,
   "metadata": {
    "ExecuteTime": {
     "end_time": "2020-02-11T18:24:10.904553Z",
     "start_time": "2020-02-11T18:24:10.580264Z"
    }
   },
   "outputs": [],
   "source": [
    "FIW_FEATURES = Path(\"/Users/zkhan/Dropbox/rfiw2020-data/FIDs-features/\")\n",
    "# https://1drv.ms/u/s!AkDk_XdBkJ9wgagCPB-UakHehdEACw?e=hBAJz2\n",
    "training_csv = pd.read_csv(\"/Users/zkhan/Downloads/sample_train_face_list.csv\")\n",
    "test_csv = pd.read_csv(\"/Users/zkhan/Downloads/test_reference.csv\")"
   ]
  },
  {
   "cell_type": "code",
   "execution_count": 3,
   "metadata": {
    "ExecuteTime": {
     "end_time": "2020-02-11T18:24:11.244324Z",
     "start_time": "2020-02-11T18:24:11.237630Z"
    }
   },
   "outputs": [],
   "source": [
    "def read_features_from_iterable_of_pictures(iterable: Iterable[str], feature_dir: Path, feature_len: int = 512):\n",
    "    \"\"\"\n",
    "    For each picture in the iterable, read the corresponding feature\n",
    "    file from a directory of feature files.\n",
    "    \n",
    "    Parameters\n",
    "    ------------\n",
    "    iterable:\n",
    "        An iterable of face image names.\n",
    "    feature_dir:\n",
    "        A Path to a directory containing features of faces, organized in\n",
    "        the same way as FIW.\n",
    "    feature_len:\n",
    "        The size of the feature vector.\n",
    "        \n",
    "    Returns\n",
    "    ------------\n",
    "    A mxn matrix, where m is the number of images in the iterable, and n is\n",
    "    the feature len.\n",
    "    \"\"\"\n",
    "    dims = (len(iterable), feature_len)\n",
    "    features = np.zeros(dims)\n",
    "    for idx, img in enumerate(tqdm(iterable)):\n",
    "        feature_file_name = (FIW_FEATURES / img).with_suffix(\".pkl\")\n",
    "        with open(feature_file_name, \"rb\") as f:\n",
    "            feature_vector = pickle.load(f)\n",
    "        features[idx] = feature_vector\n",
    "    return features"
   ]
  },
  {
   "cell_type": "markdown",
   "metadata": {},
   "source": [
    "# Finding the best threshold for kinship classification"
   ]
  },
  {
   "cell_type": "code",
   "execution_count": 4,
   "metadata": {
    "ExecuteTime": {
     "end_time": "2020-02-11T18:25:43.653482Z",
     "start_time": "2020-02-11T18:24:11.816102Z"
    }
   },
   "outputs": [
    {
     "data": {
      "application/vnd.jupyter.widget-view+json": {
       "model_id": "42b3a7b1825f476aaa70b523bfde56b5",
       "version_major": 2,
       "version_minor": 0
      },
      "text/plain": [
       "HBox(children=(FloatProgress(value=0.0, max=502322.0), HTML(value='')))"
      ]
     },
     "metadata": {},
     "output_type": "display_data"
    },
    {
     "name": "stdout",
     "output_type": "stream",
     "text": [
      "\n"
     ]
    },
    {
     "data": {
      "application/vnd.jupyter.widget-view+json": {
       "model_id": "a8bc0a0f85ac49248a1d74447b0aca50",
       "version_major": 2,
       "version_minor": 0
      },
      "text/plain": [
       "HBox(children=(FloatProgress(value=0.0, max=502322.0), HTML(value='')))"
      ]
     },
     "metadata": {},
     "output_type": "display_data"
    },
    {
     "name": "stdout",
     "output_type": "stream",
     "text": [
      "\n"
     ]
    }
   ],
   "source": [
    "person_one_features = read_features_from_iterable_of_pictures(training_csv.p1, FIW_FEATURES)\n",
    "person_two_features = read_features_from_iterable_of_pictures(training_csv.p2, FIW_FEATURES)"
   ]
  },
  {
   "cell_type": "code",
   "execution_count": 7,
   "metadata": {
    "ExecuteTime": {
     "end_time": "2020-02-11T18:29:15.993188Z",
     "start_time": "2020-02-11T18:28:59.208786Z"
    }
   },
   "outputs": [],
   "source": [
    "cosine_similarity_train_faces = np.array(\n",
    "    [distance.cosine(u, v) for u, v in tqdm(zip(person_one_features, person_two_features))]\n",
    ")"
   ]
  },
  {
   "cell_type": "code",
   "execution_count": 12,
   "metadata": {
    "ExecuteTime": {
     "end_time": "2020-02-11T18:30:45.050921Z",
     "start_time": "2020-02-11T18:30:45.045587Z"
    }
   },
   "outputs": [],
   "source": [
    "train_labels = training_csv.label.values.copy()"
   ]
  },
  {
   "cell_type": "code",
   "execution_count": 37,
   "metadata": {
    "ExecuteTime": {
     "end_time": "2020-02-11T18:45:33.285313Z",
     "start_time": "2020-02-11T18:45:31.178130Z"
    }
   },
   "outputs": [
    {
     "data": {
      "application/vnd.jupyter.widget-view+json": {
       "model_id": "98ec81779c314301b37cd983b7694096",
       "version_major": 2,
       "version_minor": 0
      },
      "text/plain": [
       "HBox(children=(FloatProgress(value=0.0, max=80.0), HTML(value='')))"
      ]
     },
     "metadata": {},
     "output_type": "display_data"
    },
    {
     "name": "stdout",
     "output_type": "stream",
     "text": [
      "\n"
     ]
    }
   ],
   "source": [
    "thresholds = np.arange(1, 0, step=-0.0125)\n",
    "accuracy_scores = []\n",
    "for thresh in tqdm(thresholds):\n",
    "    accuracy_scores.append(accuracy_score(train_labels, cosine_similarity_train_faces > thresh))\n",
    "\n",
    "accuracies = np.array(accuracy_scores)\n",
    "max_accuracy = accuracies.max() \n",
    "max_accuracy_threshold =  thresholds[accuracies.argmax()]"
   ]
  },
  {
   "cell_type": "code",
   "execution_count": 38,
   "metadata": {
    "ExecuteTime": {
     "end_time": "2020-02-11T18:45:34.253789Z",
     "start_time": "2020-02-11T18:45:34.250261Z"
    }
   },
   "outputs": [
    {
     "name": "stdout",
     "output_type": "stream",
     "text": [
      "0.526634310263138\n",
      "0.025000000000003464\n"
     ]
    }
   ],
   "source": [
    "print(max_accuracy)\n",
    "print(max_accuracy_threshold)"
   ]
  },
  {
   "cell_type": "markdown",
   "metadata": {
    "ExecuteTime": {
     "end_time": "2020-02-11T18:43:43.389703Z",
     "start_time": "2020-02-11T18:43:43.385940Z"
    }
   },
   "source": [
    "The best performing threshold is 0.025, with an accuracy of 0.5266."
   ]
  },
  {
   "cell_type": "markdown",
   "metadata": {},
   "source": [
    "# Evaluating performance on the test set"
   ]
  },
  {
   "cell_type": "code",
   "execution_count": 39,
   "metadata": {
    "ExecuteTime": {
     "end_time": "2020-02-11T18:49:04.616595Z",
     "start_time": "2020-02-11T18:48:54.068613Z"
    }
   },
   "outputs": [
    {
     "data": {
      "application/vnd.jupyter.widget-view+json": {
       "model_id": "4bf76aaf2aed421cb4c7d11b9b6f63a0",
       "version_major": 2,
       "version_minor": 0
      },
      "text/plain": [
       "HBox(children=(FloatProgress(value=0.0, max=39743.0), HTML(value='')))"
      ]
     },
     "metadata": {},
     "output_type": "display_data"
    },
    {
     "name": "stdout",
     "output_type": "stream",
     "text": [
      "\n"
     ]
    },
    {
     "data": {
      "application/vnd.jupyter.widget-view+json": {
       "model_id": "ca2223bc2eba4289a6c622c4be935c79",
       "version_major": 2,
       "version_minor": 0
      },
      "text/plain": [
       "HBox(children=(FloatProgress(value=0.0, max=39743.0), HTML(value='')))"
      ]
     },
     "metadata": {},
     "output_type": "display_data"
    },
    {
     "name": "stdout",
     "output_type": "stream",
     "text": [
      "\n"
     ]
    }
   ],
   "source": [
    "person_one_features_test = read_features_from_iterable_of_pictures(test_csv.p1, FIW_FEATURES)\n",
    "person_two_features_test = read_features_from_iterable_of_pictures(test_csv.p2, FIW_FEATURES)"
   ]
  },
  {
   "cell_type": "code",
   "execution_count": 40,
   "metadata": {
    "ExecuteTime": {
     "end_time": "2020-02-11T18:49:43.234217Z",
     "start_time": "2020-02-11T18:49:40.798512Z"
    }
   },
   "outputs": [
    {
     "data": {
      "application/vnd.jupyter.widget-view+json": {
       "model_id": "d9b33c59e8ca4762822f4f8bc0b685df",
       "version_major": 2,
       "version_minor": 0
      },
      "text/plain": [
       "HBox(children=(FloatProgress(value=1.0, bar_style='info', max=1.0), HTML(value='')))"
      ]
     },
     "metadata": {},
     "output_type": "display_data"
    },
    {
     "name": "stdout",
     "output_type": "stream",
     "text": [
      "\n"
     ]
    }
   ],
   "source": [
    "cosine_similarity_test_faces = np.array(\n",
    "    [distance.cosine(u, v) for u, v in tqdm(zip(person_one_features_test, person_two_features_test))]\n",
    ")"
   ]
  },
  {
   "cell_type": "code",
   "execution_count": 41,
   "metadata": {
    "ExecuteTime": {
     "end_time": "2020-02-11T18:49:58.607731Z",
     "start_time": "2020-02-11T18:49:58.604318Z"
    }
   },
   "outputs": [],
   "source": [
    "test_labels = test_csv.label.values.copy()"
   ]
  },
  {
   "cell_type": "code",
   "execution_count": 42,
   "metadata": {
    "ExecuteTime": {
     "end_time": "2020-02-11T18:50:34.961526Z",
     "start_time": "2020-02-11T18:50:34.954346Z"
    }
   },
   "outputs": [
    {
     "data": {
      "text/plain": [
       "0.5004654907782503"
      ]
     },
     "execution_count": 42,
     "metadata": {},
     "output_type": "execute_result"
    }
   ],
   "source": [
    "accuracy_score(test_labels, cosine_similarity_test_faces > max_accuracy_threshold)"
   ]
  },
  {
   "cell_type": "markdown",
   "metadata": {},
   "source": [
    "We get an accuracy of 0.5."
   ]
  },
  {
   "cell_type": "markdown",
   "metadata": {},
   "source": [
    "# Finer grained analysis of verification results\n",
    "Break down accuracy by relationship types."
   ]
  },
  {
   "cell_type": "code",
   "execution_count": 46,
   "metadata": {
    "ExecuteTime": {
     "end_time": "2020-02-11T18:54:43.105054Z",
     "start_time": "2020-02-11T18:54:43.097322Z"
    }
   },
   "outputs": [],
   "source": [
    "test_csv[\"pred\"] = cosine_similarity_test_faces > max_accuracy_threshold"
   ]
  },
  {
   "cell_type": "code",
   "execution_count": 58,
   "metadata": {
    "ExecuteTime": {
     "end_time": "2020-02-11T18:59:23.002012Z",
     "start_time": "2020-02-11T18:59:22.943170Z"
    }
   },
   "outputs": [],
   "source": [
    "relationship_types = test_csv['ptype'].unique()\n",
    "accuracy_df = pd.DataFrame(columns=relationship_types, dtype=float)\n",
    "for rel_type in relationship_types:\n",
    "    df = test_csv[test_csv.ptype.eq(rel_type)]\n",
    "    accuracy_df.loc[0, rel_type] = accuracy_score(df.label, df.pred)\n",
    "    \n",
    "accuracy_df[\"avg\"] = np.mean(accuracy_df.loc[0, :])"
   ]
  },
  {
   "cell_type": "code",
   "execution_count": 59,
   "metadata": {
    "ExecuteTime": {
     "end_time": "2020-02-11T18:59:24.131754Z",
     "start_time": "2020-02-11T18:59:24.116606Z"
    }
   },
   "outputs": [
    {
     "data": {
      "text/html": [
       "<div>\n",
       "<style scoped>\n",
       "    .dataframe tbody tr th:only-of-type {\n",
       "        vertical-align: middle;\n",
       "    }\n",
       "\n",
       "    .dataframe tbody tr th {\n",
       "        vertical-align: top;\n",
       "    }\n",
       "\n",
       "    .dataframe thead th {\n",
       "        text-align: right;\n",
       "    }\n",
       "</style>\n",
       "<table border=\"1\" class=\"dataframe\">\n",
       "  <thead>\n",
       "    <tr style=\"text-align: right;\">\n",
       "      <th></th>\n",
       "      <th>bb</th>\n",
       "      <th>ss</th>\n",
       "      <th>fd</th>\n",
       "      <th>md</th>\n",
       "      <th>fs</th>\n",
       "      <th>gmgd</th>\n",
       "      <th>gmgs</th>\n",
       "      <th>ms</th>\n",
       "      <th>gfgs</th>\n",
       "      <th>gfgd</th>\n",
       "      <th>sibs</th>\n",
       "      <th>avg</th>\n",
       "    </tr>\n",
       "  </thead>\n",
       "  <tbody>\n",
       "    <tr>\n",
       "      <th>0</th>\n",
       "      <td>0.469</td>\n",
       "      <td>0.514</td>\n",
       "      <td>0.498</td>\n",
       "      <td>0.515</td>\n",
       "      <td>0.5</td>\n",
       "      <td>0.264</td>\n",
       "      <td>0.469</td>\n",
       "      <td>0.533</td>\n",
       "      <td>0.392</td>\n",
       "      <td>0.273</td>\n",
       "      <td>0.566</td>\n",
       "      <td>0.454</td>\n",
       "    </tr>\n",
       "  </tbody>\n",
       "</table>\n",
       "</div>"
      ],
      "text/plain": [
       "      bb     ss     fd     md   fs   gmgd   gmgs     ms   gfgs   gfgd   sibs  \\\n",
       "0  0.469  0.514  0.498  0.515  0.5  0.264  0.469  0.533  0.392  0.273  0.566   \n",
       "\n",
       "     avg  \n",
       "0  0.454  "
      ]
     },
     "execution_count": 59,
     "metadata": {},
     "output_type": "execute_result"
    }
   ],
   "source": [
    "accuracy_df.round(decimals=3)"
   ]
  }
 ],
 "metadata": {
  "kernelspec": {
   "display_name": "Python 3.7.5 64-bit ('3.7.5': pyenv)",
   "language": "python",
   "name": "python37564bit375pyenv8e19e292c972491499da4846beb4f99b"
  },
  "language_info": {
   "codemirror_mode": {
    "name": "ipython",
    "version": 3
   },
   "file_extension": ".py",
   "mimetype": "text/x-python",
   "name": "python",
   "nbconvert_exporter": "python",
   "pygments_lexer": "ipython3",
   "version": "3.7.5"
  }
 },
 "nbformat": 4,
 "nbformat_minor": 4
}
